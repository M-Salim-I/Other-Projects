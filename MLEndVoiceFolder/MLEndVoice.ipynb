{
  "nbformat": 4,
  "nbformat_minor": 0,
  "metadata": {
    "colab": {
      "name": "ECS708P_miniproject_submission.ipynb",
      "provenance": [],
      "collapsed_sections": [
        "cfX5jYjS0Ksl",
        "ZaGn4ICrfqXZ",
        "VL9hSgfc0ZT1",
        "PNJFkOTD7a9T",
        "ObIDFkGSfuYa",
        "D8ggHPBoBKYx",
        "jzQeneV7-M13",
        "umwBnyNS2li0"
      ],
      "include_colab_link": true
    },
    "kernelspec": {
      "display_name": "Python 3 Truffle",
      "language": "python",
      "name": "python3"
    },
    "language_info": {
      "codemirror_mode": {
        "name": "ipython",
        "version": 3
      },
      "file_extension": ".py",
      "mimetype": "text/x-python",
      "name": "python",
      "nbconvert_exporter": "python",
      "pygments_lexer": "ipython3",
      "version": "3.7.2"
    }
  },
  "cells": [
    {
      "cell_type": "markdown",
      "metadata": {
        "id": "view-in-github",
        "colab_type": "text"
      },
      "source": [
        "<a href=\"https://colab.research.google.com/github/M-Salim-I/Other-Projects/blob/main/MLEndVoice.ipynb\" target=\"_parent\"><img src=\"https://colab.research.google.com/assets/colab-badge.svg\" alt=\"Open In Colab\"/></a>"
      ]
    },
    {
      "cell_type": "markdown",
      "metadata": {
        "id": "91MsGMTna_P9"
      },
      "source": [
        "The mini-project consists of two components:\n",
        "\n",
        "\n",
        "1.   **Basic solution**: Using the MLEnd dataset, build a model that predicts the intonation of a short audio segment.\n",
        "2.   **Advanced solution** : There are two options. (i) Formulate a machine learning problem that can be attempted using the MLEnd dataset and build a solution model (e.g. identify a numeral in a short sequence). (ii) Create a product that uses the functionality provided by a model trained on the MLEnd dataset (e.g. identify a number based on the identification of individual numerals).  \n",
        "\n",
        "The submission will consist of a single Jupyter notebook for both basic and advanced solution. The uploaded notebook should contain: \n",
        "\n",
        "*   **Text cells**, describing concisely each step and results.\n",
        "*   **Code cells**, implementing each step.\n",
        "*   **Output cells**, i.e. the output from each code cell.\n",
        "\n",
        "and should have **two separate sections** for the basic and the advanced solutions.\n",
        "\n",
        "What should you include in your notebook?\n",
        "\n",
        "*   Title, student name, student ID.\n",
        "*   Brief summary.\n",
        "*   Dataset preparation.\n",
        "*   Dataset visualisation.\n",
        "*   Preprocessing.\n",
        "*   Model(s) description.\n",
        "*   Training and validation tasks.\n",
        "*   Performance evaluation (accuracy, confusion matrix, ROC curve, etc).\n",
        "*   Conclusions.\n",
        "\n",
        "\n",
        "How will we evaluate your submission?\n",
        "\n",
        "*   Conciseness in your writing (10%).\n",
        "*   Correctness in your methodology (30%).\n",
        "*   Correctness in your analysis and conclusions (30%).\n",
        "*   Completeness (10%).\n",
        "*   Originality (10%).\n",
        "*   Efforts to try something new (10%).\n",
        "\n",
        "Suggestion: Why don't you use **GitHub** to manage your project? GitHub can be used as a presentation card that showcases what you have done and gives evidence of your data science skills, knowledge and experience. \n"
      ]
    },
    {
      "cell_type": "markdown",
      "metadata": {
        "id": "PsQQXrIq5-ur"
      },
      "source": [
        "# Title: MLEnd miniproject\n",
        "### Student Name: Mohammed Salim Ibrahim\n",
        "### Student ID: 170050601\n"
      ]
    },
    {
      "cell_type": "markdown",
      "metadata": {
        "id": "cfX5jYjS0Ksl"
      },
      "source": [
        "# Modules/Libraries used"
      ]
    },
    {
      "cell_type": "code",
      "metadata": {
        "colab": {
          "base_uri": "https://localhost:8080/"
        },
        "id": "k0gO1ZvYG7RH",
        "outputId": "990f1901-f81d-4c2f-b96d-da8bc8245583"
      },
      "source": [
        "from google.colab import drive\n",
        "import numpy as np\n",
        "import pandas as pd\n",
        "import matplotlib.pyplot as plt\n",
        "import seaborn as sns\n",
        "import os, sys, re, pickle, glob\n",
        "import urllib.request\n",
        "import zipfile\n",
        "from IPython.display import Audio\n",
        "import IPython.display as ipd\n",
        "from tqdm import tqdm\n",
        "import librosa\n",
        "from sklearn.model_selection import train_test_split, RandomizedSearchCV\n",
        "from sklearn.preprocessing import StandardScaler, LabelEncoder\n",
        "from sklearn import neighbors\n",
        "from sklearn import metrics\n",
        "from sklearn.metrics import confusion_matrix, plot_confusion_matrix, classification_report, accuracy_score, roc_curve, roc_auc_score\n",
        "from sklearn.neighbors import KNeighborsClassifier\n",
        "from sklearn.linear_model import LogisticRegression\n",
        "from sklearn.ensemble import RandomForestClassifier\n",
        "from sklearn.pipeline import Pipeline\n",
        "import tensorflow as tf\n",
        "from tensorflow.keras.models import Sequential\n",
        "from tensorflow.keras.layers import Dense, Activation\n",
        "from tensorflow.keras.optimizers import Adam\n",
        "from datetime import datetime \n",
        "import warnings\n",
        "warnings.filterwarnings('ignore')\n",
        "drive.mount('/content/drive')"
      ],
      "execution_count": null,
      "outputs": [
        {
          "output_type": "stream",
          "text": [
            "Drive already mounted at /content/drive; to attempt to forcibly remount, call drive.mount(\"/content/drive\", force_remount=True).\n"
          ],
          "name": "stdout"
        }
      ]
    },
    {
      "cell_type": "markdown",
      "metadata": {
        "id": "ZaGn4ICrfqXZ"
      },
      "source": [
        "# Basic solution [6 marks]:\n",
        "\n"
      ]
    },
    {
      "cell_type": "markdown",
      "metadata": {
        "id": "qDBfftrorelr"
      },
      "source": [
        "**Problem Statement:** Predicting the intonation of a short audio segment."
      ]
    },
    {
      "cell_type": "markdown",
      "metadata": {
        "id": "_ZB4tRw5xwo7"
      },
      "source": [
        "## Breif summary:\n",
        "\n",
        "In this notebook, we will use the MLEnd data set. Firstly, we preprocess the data and then build a model that predicts the intonation of a short audio segment. Next, we will evaluate the performance of our model and come to a conclusion of what we have done.\n",
        "Note: this is a multi-class classification problem\n",
        "\n",
        "The MLEnd dataset contains audio files where each audio file contains a single digit and the intonation that is associated with it. For example, such an audio file will be a voice saying the digit number \"0\" with the intonation of the voice being excited."
      ]
    },
    {
      "cell_type": "markdown",
      "metadata": {
        "id": "VL9hSgfc0ZT1"
      },
      "source": [
        "## Dataset preparation and exploration"
      ]
    },
    {
      "cell_type": "markdown",
      "metadata": {
        "id": "aDS8Oqg1TPlb"
      },
      "source": [
        "The following code cells below with their explanations are referenced here:\n",
        "https://qmplus.qmul.ac.uk/mod/resource/view.php?id=1566660"
      ]
    },
    {
      "cell_type": "markdown",
      "metadata": {
        "id": "Qy_wnj3DL5ZP"
      },
      "source": [
        "Here we see how many audio files we have in our data set:"
      ]
    },
    {
      "cell_type": "code",
      "metadata": {
        "colab": {
          "base_uri": "https://localhost:8080/"
        },
        "id": "G2OolEaWG9XA",
        "outputId": "e3b52b92-f99b-4216-cc63-4c9a13ebf219"
      },
      "source": [
        "files = glob.glob('/content/drive/MyDrive/Data/MLEnd/training/*/*.wav')\n",
        "len(files)"
      ],
      "execution_count": null,
      "outputs": [
        {
          "output_type": "execute_result",
          "data": {
            "text/plain": [
              "20000"
            ]
          },
          "metadata": {
            "tags": []
          },
          "execution_count": 2
        }
      ]
    },
    {
      "cell_type": "markdown",
      "metadata": {
        "id": "dOrsubhPMKvk"
      },
      "source": [
        "This figure (20,000) corresponds to the number of **items** or **samples** in our dataset."
      ]
    },
    {
      "cell_type": "markdown",
      "metadata": {
        "id": "J4OvPD58MQya"
      },
      "source": [
        "Let's now load the contents of 'trainingMLEnd.csv' into a pandas DataFrame and explore them:"
      ]
    },
    {
      "cell_type": "code",
      "metadata": {
        "id": "8G7B8Q1ogUBt",
        "colab": {
          "base_uri": "https://localhost:8080/"
        },
        "outputId": "6bcb93b0-86a8-4a8c-bda4-2d9b2a796442"
      },
      "source": [
        "labels = pd.read_csv('/content/drive/MyDrive/Data/MLEnd/trainingMLEnd.csv')\n",
        "labels"
      ],
      "execution_count": null,
      "outputs": [
        {
          "output_type": "execute_result",
          "data": {
            "text/html": [
              "<div>\n",
              "<style scoped>\n",
              "    .dataframe tbody tr th:only-of-type {\n",
              "        vertical-align: middle;\n",
              "    }\n",
              "\n",
              "    .dataframe tbody tr th {\n",
              "        vertical-align: top;\n",
              "    }\n",
              "\n",
              "    .dataframe thead th {\n",
              "        text-align: right;\n",
              "    }\n",
              "</style>\n",
              "<table border=\"1\" class=\"dataframe\">\n",
              "  <thead>\n",
              "    <tr style=\"text-align: right;\">\n",
              "      <th></th>\n",
              "      <th>File ID</th>\n",
              "      <th>digit_label</th>\n",
              "      <th>participant</th>\n",
              "      <th>intonation</th>\n",
              "    </tr>\n",
              "  </thead>\n",
              "  <tbody>\n",
              "    <tr>\n",
              "      <th>0</th>\n",
              "      <td>0000000.wav</td>\n",
              "      <td>4</td>\n",
              "      <td>S73</td>\n",
              "      <td>question</td>\n",
              "    </tr>\n",
              "    <tr>\n",
              "      <th>1</th>\n",
              "      <td>0000001.wav</td>\n",
              "      <td>2</td>\n",
              "      <td>S88</td>\n",
              "      <td>excited</td>\n",
              "    </tr>\n",
              "    <tr>\n",
              "      <th>2</th>\n",
              "      <td>0000002.wav</td>\n",
              "      <td>70</td>\n",
              "      <td>S5</td>\n",
              "      <td>neutral</td>\n",
              "    </tr>\n",
              "    <tr>\n",
              "      <th>3</th>\n",
              "      <td>0000003.wav</td>\n",
              "      <td>2</td>\n",
              "      <td>S85</td>\n",
              "      <td>bored</td>\n",
              "    </tr>\n",
              "    <tr>\n",
              "      <th>4</th>\n",
              "      <td>0000004.wav</td>\n",
              "      <td>4</td>\n",
              "      <td>S30</td>\n",
              "      <td>excited</td>\n",
              "    </tr>\n",
              "    <tr>\n",
              "      <th>...</th>\n",
              "      <td>...</td>\n",
              "      <td>...</td>\n",
              "      <td>...</td>\n",
              "      <td>...</td>\n",
              "    </tr>\n",
              "    <tr>\n",
              "      <th>19995</th>\n",
              "      <td>0019995.wav</td>\n",
              "      <td>90</td>\n",
              "      <td>S163</td>\n",
              "      <td>excited</td>\n",
              "    </tr>\n",
              "    <tr>\n",
              "      <th>19996</th>\n",
              "      <td>0019996.wav</td>\n",
              "      <td>10</td>\n",
              "      <td>S99</td>\n",
              "      <td>question</td>\n",
              "    </tr>\n",
              "    <tr>\n",
              "      <th>19997</th>\n",
              "      <td>0019997.wav</td>\n",
              "      <td>90</td>\n",
              "      <td>S46</td>\n",
              "      <td>question</td>\n",
              "    </tr>\n",
              "    <tr>\n",
              "      <th>19998</th>\n",
              "      <td>0019998.wav</td>\n",
              "      <td>19</td>\n",
              "      <td>S13</td>\n",
              "      <td>neutral</td>\n",
              "    </tr>\n",
              "    <tr>\n",
              "      <th>19999</th>\n",
              "      <td>0019999.wav</td>\n",
              "      <td>20</td>\n",
              "      <td>S101</td>\n",
              "      <td>neutral</td>\n",
              "    </tr>\n",
              "  </tbody>\n",
              "</table>\n",
              "<p>20000 rows × 4 columns</p>\n",
              "</div>"
            ],
            "text/plain": [
              "           File ID  digit_label participant intonation\n",
              "0      0000000.wav            4         S73   question\n",
              "1      0000001.wav            2         S88    excited\n",
              "2      0000002.wav           70          S5    neutral\n",
              "3      0000003.wav            2         S85      bored\n",
              "4      0000004.wav            4         S30    excited\n",
              "...            ...          ...         ...        ...\n",
              "19995  0019995.wav           90        S163    excited\n",
              "19996  0019996.wav           10         S99   question\n",
              "19997  0019997.wav           90         S46   question\n",
              "19998  0019998.wav           19         S13    neutral\n",
              "19999  0019999.wav           20        S101    neutral\n",
              "\n",
              "[20000 rows x 4 columns]"
            ]
          },
          "metadata": {
            "tags": []
          },
          "execution_count": 3
        }
      ]
    },
    {
      "cell_type": "markdown",
      "metadata": {
        "id": "4r9l8PMRMWgA"
      },
      "source": [
        "This file consists of 20k rows and 4 columns. Each row corresponds to one of the items in our dataset, and each item is described by four attributes:\n",
        "\n",
        "\n",
        "1.   File ID (audio file)\n",
        "2.   Numeral\n",
        "3.   Participand ID\n",
        "4.   Intonation\n"
      ]
    },
    {
      "cell_type": "markdown",
      "metadata": {
        "id": "3g896YAWKlfF"
      },
      "source": [
        "If we are using a raw audio signal as a predictor, we will be operating in a predictor space consisting of tens of thousands of dimensions.\n",
        "\n",
        "One approach is to extract a few features from our signals and use these features instead as predictors. In the following cell, we define a function that extracts four features from an audio signal, namely:\n",
        "\n",
        "\n",
        "1.   Power.\n",
        "2.   Pitch mean.\n",
        "3.   Pitch standard deviation.\n",
        "4.   Fraction of voiced region.\n",
        "\n",
        "In the next cell, we define a new function that gets the pitch of an audio signal. Moreover, we  define a function that takes a number of files and creates a NumPy array containing the 4 audio features used as predictors (`X`) and their labels (`y`). \n",
        "\n",
        "**Note: The cell below is commented out, this is done to avoid downloading all the files again repeatedly when re-running the notebook.**"
      ]
    },
    {
      "cell_type": "code",
      "metadata": {
        "colab": {
          "base_uri": "https://localhost:8080/"
        },
        "id": "-iOE9lQduhYB",
        "outputId": "ce5bfa6f-e708-4690-ea7f-831483f8cf74"
      },
      "source": [
        "'''\n",
        "def getPitch(x,fs,winLen=0.02): \n",
        "  p = winLen*fs\n",
        "  frame_length = int(2 ** int(p - 1).bit_length())\n",
        "  hop_length = frame_length//2\n",
        "  f0, voiced_flag, voiced_probs = librosa.pyin(y = x, fmin = 80, fmax = 450, sr = fs, frame_length=frame_length, hop_length=hop_length)\n",
        "  return f0,voiced_flag\n",
        "\n",
        "def getXy(files,labels_file,scale_audio = False):\n",
        "  X, y1, y2 =[], [], []\n",
        "  for file in tqdm(files):\n",
        "    fileID = file.split('/')[-1]\n",
        "    digitlabels = list(labels_file[labels_file['File ID'] == fileID]['digit_label'])[0]\n",
        "    intonations = list(labels_file[labels_file['File ID'] == fileID]['intonation'])[0]\n",
        "    fs = None # if None, fs would be 22050\n",
        "    x, fs = librosa.load(file,sr=fs)\n",
        "    if scale_audio: x = x/np.max(np.abs(x))\n",
        "    f0, voiced_flag = getPitch(x, fs, winLen = 0.02)\n",
        "    # how the fetures are defined\n",
        "    power = np.sum(x**2)/len(x)\n",
        "    pitch_mean = np.nanmean(f0) if np.mean(np.isnan(f0)) < 1 else 0\n",
        "    pitch_std  = np.nanstd(f0) if np.mean(np.isnan(f0)) < 1 else 0\n",
        "    voiced_fr = np.mean(voiced_flag)\n",
        "    # the dataset X is built/priortises on these features\n",
        "    xi = [power,pitch_mean,pitch_std,voiced_fr]\n",
        "    X.append(xi)\n",
        "    y1.append(digitlabels)\n",
        "    y2.append(intonations)\n",
        "  return np.array(X), np.array(y1), np.array(y2)\n",
        "\n",
        "X, y1, y2 = getXy(files, labels_file = labels, scale_audio = True) # all of the dataset\n",
        "df = pd.DataFrame({'power': X[:, 0], 'pitch_mean': X[:, 1], 'pitch_standard_deviation': X[:, 2], 'fraction_of_voiced_region': X[:, 3], \n",
        "                   'number': y1, \"intonation\": y2})\n",
        "# These 3 lines of code should be outputted in 3 separate code blocks\n",
        "cd /content/drive/My Drive\n",
        "!pwd\n",
        "df.to_csv(\"complete_data.csv\", index = False)\n",
        "'''"
      ],
      "execution_count": null,
      "outputs": [
        {
          "output_type": "execute_result",
          "data": {
            "application/vnd.google.colaboratory.intrinsic+json": {
              "type": "string"
            },
            "text/plain": [
              "'\\ndef getPitch(x,fs,winLen=0.02): \\n  p = winLen*fs\\n  frame_length = int(2 ** int(p - 1).bit_length())\\n  hop_length = frame_length//2\\n  f0, voiced_flag, voiced_probs = librosa.pyin(y = x, fmin = 80, fmax = 450, sr = fs, frame_length=frame_length, hop_length=hop_length)\\n  return f0,voiced_flag\\n\\ndef getXy(files,labels_file,scale_audio = False):\\n  X, y1, y2 =[], [], []\\n  for file in tqdm(files):\\n    fileID = file.split(\\'/\\')[-1]\\n    digitlabels = list(labels_file[labels_file[\\'File ID\\'] == fileID][\\'digit_label\\'])[0]\\n    intonations = list(labels_file[labels_file[\\'File ID\\'] == fileID][\\'intonation\\'])[0]\\n    fs = None # if None, fs would be 22050\\n    x, fs = librosa.load(file,sr=fs)\\n    if scale_audio: x = x/np.max(np.abs(x))\\n    f0, voiced_flag = getPitch(x, fs, winLen = 0.02)\\n    # how the fetures are defined\\n    power = np.sum(x**2)/len(x)\\n    pitch_mean = np.nanmean(f0) if np.mean(np.isnan(f0)) < 1 else 0\\n    pitch_std  = np.nanstd(f0) if np.mean(np.isnan(f0)) < 1 else 0\\n    voiced_fr = np.mean(voiced_flag)\\n    # the dataset X is built/priortises on these features\\n    xi = [power,pitch_mean,pitch_std,voiced_fr]\\n    X.append(xi)\\n    y1.append(digitlabels)\\n    y2.append(intonations)\\n  return np.array(X), np.array(y1), np.array(y2)\\n\\nX, y1, y2 = getXy(files, labels_file = labels, scale_audio = True) # all of the dataset\\ndf = pd.DataFrame({\\'power\\': X[:, 0], \\'pitch_mean\\': X[:, 1], \\'pitch_standard_deviation\\': X[:, 2], \\'fraction_of_voiced_region\\': X[:, 3], \\n                   \\'number\\': y1, \"intonation\": y2})\\n# These 3 lines of code should be outputted in 3 separate code blocks\\ncd /content/drive/My Drive\\n!pwd\\ndf.to_csv(\"complete_data.csv\", index = False)\\n'"
            ]
          },
          "metadata": {
            "tags": []
          },
          "execution_count": 4
        }
      ]
    },
    {
      "cell_type": "markdown",
      "metadata": {
        "id": "gOzca6HKOMYL"
      },
      "source": [
        "From the cell above we apply the function `getXy` to extract all the audio files in our data set. Then we create a pandas data frame and turn it into a CSV (comma-separated values) file. Next, we save the CSV file to our drive so we can use the completed data for future purposes."
      ]
    },
    {
      "cell_type": "markdown",
      "metadata": {
        "id": "KFXoZCPxPV4x"
      },
      "source": [
        "Here we load our created CSV file and look at the first 5 rows of our data frame."
      ]
    },
    {
      "cell_type": "code",
      "metadata": {
        "colab": {
          "base_uri": "https://localhost:8080/"
        },
        "id": "FLtNjH9Bq36Q",
        "outputId": "af479c3d-07ae-4a8e-c8b7-f67aa1c07b09"
      },
      "source": [
        "df = pd.read_csv(\"/content/drive/MyDrive/complete_data.csv\")\n",
        "df.head()"
      ],
      "execution_count": null,
      "outputs": [
        {
          "output_type": "execute_result",
          "data": {
            "text/html": [
              "<div>\n",
              "<style scoped>\n",
              "    .dataframe tbody tr th:only-of-type {\n",
              "        vertical-align: middle;\n",
              "    }\n",
              "\n",
              "    .dataframe tbody tr th {\n",
              "        vertical-align: top;\n",
              "    }\n",
              "\n",
              "    .dataframe thead th {\n",
              "        text-align: right;\n",
              "    }\n",
              "</style>\n",
              "<table border=\"1\" class=\"dataframe\">\n",
              "  <thead>\n",
              "    <tr style=\"text-align: right;\">\n",
              "      <th></th>\n",
              "      <th>power</th>\n",
              "      <th>pitch_mean</th>\n",
              "      <th>pitch_standard_deviation</th>\n",
              "      <th>fraction_of_voiced_region</th>\n",
              "      <th>number</th>\n",
              "      <th>intonation</th>\n",
              "    </tr>\n",
              "  </thead>\n",
              "  <tbody>\n",
              "    <tr>\n",
              "      <th>0</th>\n",
              "      <td>0.017455</td>\n",
              "      <td>227.662371</td>\n",
              "      <td>32.420767</td>\n",
              "      <td>0.386792</td>\n",
              "      <td>12</td>\n",
              "      <td>bored</td>\n",
              "    </tr>\n",
              "    <tr>\n",
              "      <th>1</th>\n",
              "      <td>0.038618</td>\n",
              "      <td>187.723934</td>\n",
              "      <td>62.598813</td>\n",
              "      <td>0.291139</td>\n",
              "      <td>1</td>\n",
              "      <td>question</td>\n",
              "    </tr>\n",
              "    <tr>\n",
              "      <th>2</th>\n",
              "      <td>0.042435</td>\n",
              "      <td>128.812251</td>\n",
              "      <td>20.912529</td>\n",
              "      <td>0.313953</td>\n",
              "      <td>40</td>\n",
              "      <td>excited</td>\n",
              "    </tr>\n",
              "    <tr>\n",
              "      <th>3</th>\n",
              "      <td>0.006295</td>\n",
              "      <td>130.283099</td>\n",
              "      <td>5.193614</td>\n",
              "      <td>0.241176</td>\n",
              "      <td>9</td>\n",
              "      <td>excited</td>\n",
              "    </tr>\n",
              "    <tr>\n",
              "      <th>4</th>\n",
              "      <td>0.017070</td>\n",
              "      <td>171.916609</td>\n",
              "      <td>26.854425</td>\n",
              "      <td>0.111888</td>\n",
              "      <td>6</td>\n",
              "      <td>question</td>\n",
              "    </tr>\n",
              "  </tbody>\n",
              "</table>\n",
              "</div>"
            ],
            "text/plain": [
              "      power  pitch_mean  ...  number  intonation\n",
              "0  0.017455  227.662371  ...      12       bored\n",
              "1  0.038618  187.723934  ...       1    question\n",
              "2  0.042435  128.812251  ...      40     excited\n",
              "3  0.006295  130.283099  ...       9     excited\n",
              "4  0.017070  171.916609  ...       6    question\n",
              "\n",
              "[5 rows x 6 columns]"
            ]
          },
          "metadata": {
            "tags": []
          },
          "execution_count": 5
        }
      ]
    },
    {
      "cell_type": "markdown",
      "metadata": {
        "id": "n4jyvRA-J0BB"
      },
      "source": [
        "Here we check to see if there are any missing values in our data set and observe that there are no missing values."
      ]
    },
    {
      "cell_type": "code",
      "metadata": {
        "id": "h1nbpIcI4h6A",
        "colab": {
          "base_uri": "https://localhost:8080/"
        },
        "outputId": "61145312-986a-4f50-af04-84bb21050707"
      },
      "source": [
        "df.info()"
      ],
      "execution_count": null,
      "outputs": [
        {
          "output_type": "stream",
          "text": [
            "<class 'pandas.core.frame.DataFrame'>\n",
            "RangeIndex: 20000 entries, 0 to 19999\n",
            "Data columns (total 6 columns):\n",
            " #   Column                     Non-Null Count  Dtype  \n",
            "---  ------                     --------------  -----  \n",
            " 0   power                      20000 non-null  float64\n",
            " 1   pitch_mean                 20000 non-null  float64\n",
            " 2   pitch_standard_deviation   20000 non-null  float64\n",
            " 3   fraction_of_voiced_region  20000 non-null  float64\n",
            " 4   number                     20000 non-null  int64  \n",
            " 5   intonation                 20000 non-null  object \n",
            "dtypes: float64(4), int64(1), object(1)\n",
            "memory usage: 937.6+ KB\n"
          ],
          "name": "stdout"
        }
      ]
    },
    {
      "cell_type": "markdown",
      "metadata": {
        "id": "YvImL2ZyKEZP"
      },
      "source": [
        "We now check to see if there is any class imbalance in our data set for the \"intonation\" column. We do this through a bar plot (i.e. a count plot in seaborn) and count the number of files that represent each intonation."
      ]
    },
    {
      "cell_type": "code",
      "metadata": {
        "colab": {
          "base_uri": "https://localhost:8080/"
        },
        "id": "PKpVaunmqxDW",
        "outputId": "e45b5a7f-73a4-459f-b89f-514ef3e2a8ef"
      },
      "source": [
        "#plotting the graph\n",
        "g = sns.countplot(df.intonation)\n",
        "g.set_title(\"Number of files for each intonation\", fontsize = 15)\n",
        "g.set_ylabel(\"Number of files\");"
      ],
      "execution_count": null,
      "outputs": [
        {
          "output_type": "display_data",
          "data": {
            "image/png": "[encoded data removed]",
            "text/plain": [
              "<Figure size 432x288 with 1 Axes>"
            ]
          },
          "metadata": {
            "tags": [],
            "needs_background": "light"
          }
        }
      ]
    },
    {
      "cell_type": "markdown",
      "metadata": {
        "id": "tKS3YAyGyWWP"
      },
      "source": [
        "We can see that from our data set the class labels for \"intonation\" are balanced, therefore we leave the data set as is for the basic solution."
      ]
    },
    {
      "cell_type": "markdown",
      "metadata": {
        "id": "kNZWVfNtrbcm"
      },
      "source": [
        "Before splitting our dataset into training and validation data sets, we will make a copy of our data frame and apply a label encoder to each intonation."
      ]
    },
    {
      "cell_type": "code",
      "metadata": {
        "colab": {
          "base_uri": "https://localhost:8080/"
        },
        "id": "pU8t81w_ZEdv",
        "outputId": "d565a710-e19e-4033-e800-7048441abea7"
      },
      "source": [
        "df_encoded = df.copy(deep = True)\n",
        "le = LabelEncoder()\n",
        "df_encoded[\"intonation_enc\"] = le.fit_transform(df_encoded[\"intonation\"])\n",
        "df_encoded.head()"
      ],
      "execution_count": null,
      "outputs": [
        {
          "output_type": "execute_result",
          "data": {
            "text/html": [
              "<div>\n",
              "<style scoped>\n",
              "    .dataframe tbody tr th:only-of-type {\n",
              "        vertical-align: middle;\n",
              "    }\n",
              "\n",
              "    .dataframe tbody tr th {\n",
              "        vertical-align: top;\n",
              "    }\n",
              "\n",
              "    .dataframe thead th {\n",
              "        text-align: right;\n",
              "    }\n",
              "</style>\n",
              "<table border=\"1\" class=\"dataframe\">\n",
              "  <thead>\n",
              "    <tr style=\"text-align: right;\">\n",
              "      <th></th>\n",
              "      <th>power</th>\n",
              "      <th>pitch_mean</th>\n",
              "      <th>pitch_standard_deviation</th>\n",
              "      <th>fraction_of_voiced_region</th>\n",
              "      <th>number</th>\n",
              "      <th>intonation</th>\n",
              "      <th>intonation_enc</th>\n",
              "    </tr>\n",
              "  </thead>\n",
              "  <tbody>\n",
              "    <tr>\n",
              "      <th>0</th>\n",
              "      <td>0.017455</td>\n",
              "      <td>227.662371</td>\n",
              "      <td>32.420767</td>\n",
              "      <td>0.386792</td>\n",
              "      <td>12</td>\n",
              "      <td>bored</td>\n",
              "      <td>0</td>\n",
              "    </tr>\n",
              "    <tr>\n",
              "      <th>1</th>\n",
              "      <td>0.038618</td>\n",
              "      <td>187.723934</td>\n",
              "      <td>62.598813</td>\n",
              "      <td>0.291139</td>\n",
              "      <td>1</td>\n",
              "      <td>question</td>\n",
              "      <td>3</td>\n",
              "    </tr>\n",
              "    <tr>\n",
              "      <th>2</th>\n",
              "      <td>0.042435</td>\n",
              "      <td>128.812251</td>\n",
              "      <td>20.912529</td>\n",
              "      <td>0.313953</td>\n",
              "      <td>40</td>\n",
              "      <td>excited</td>\n",
              "      <td>1</td>\n",
              "    </tr>\n",
              "    <tr>\n",
              "      <th>3</th>\n",
              "      <td>0.006295</td>\n",
              "      <td>130.283099</td>\n",
              "      <td>5.193614</td>\n",
              "      <td>0.241176</td>\n",
              "      <td>9</td>\n",
              "      <td>excited</td>\n",
              "      <td>1</td>\n",
              "    </tr>\n",
              "    <tr>\n",
              "      <th>4</th>\n",
              "      <td>0.017070</td>\n",
              "      <td>171.916609</td>\n",
              "      <td>26.854425</td>\n",
              "      <td>0.111888</td>\n",
              "      <td>6</td>\n",
              "      <td>question</td>\n",
              "      <td>3</td>\n",
              "    </tr>\n",
              "  </tbody>\n",
              "</table>\n",
              "</div>"
            ],
            "text/plain": [
              "      power  pitch_mean  ...  intonation  intonation_enc\n",
              "0  0.017455  227.662371  ...       bored               0\n",
              "1  0.038618  187.723934  ...    question               3\n",
              "2  0.042435  128.812251  ...     excited               1\n",
              "3  0.006295  130.283099  ...     excited               1\n",
              "4  0.017070  171.916609  ...    question               3\n",
              "\n",
              "[5 rows x 7 columns]"
            ]
          },
          "metadata": {
            "tags": []
          },
          "execution_count": 8
        }
      ]
    },
    {
      "cell_type": "markdown",
      "metadata": {
        "id": "-97UTu2wrvAR"
      },
      "source": [
        "We find out which intonation represents which number in the intonation_enc column."
      ]
    },
    {
      "cell_type": "code",
      "metadata": {
        "colab": {
          "base_uri": "https://localhost:8080/"
        },
        "id": "ZgMwhl4pqvPa",
        "outputId": "f7726d8f-08ff-4629-b234-622972d64c59"
      },
      "source": [
        "le.inverse_transform([0, 1, 2, 3])"
      ],
      "execution_count": null,
      "outputs": [
        {
          "output_type": "execute_result",
          "data": {
            "text/plain": [
              "array(['bored', 'excited', 'neutral', 'question'], dtype=object)"
            ]
          },
          "metadata": {
            "tags": []
          },
          "execution_count": 9
        }
      ]
    },
    {
      "cell_type": "markdown",
      "metadata": {
        "id": "OiOe2x16r2dS"
      },
      "source": [
        "We can see that since there are 4 intonations our labels will be 0, 1, 2, 3, representing the following intonations: \"bored\", \"excited\", \"neutral\", \"question\" respectively."
      ]
    },
    {
      "cell_type": "markdown",
      "metadata": {
        "id": "FPW33iW87Q-e"
      },
      "source": [
        "## Model"
      ]
    },
    {
      "cell_type": "markdown",
      "metadata": {
        "id": "8NY7aIHKDs3g"
      },
      "source": [
        "We split the data set randomly such that the validation data set accounts for 30% of the total number of samples in the data set. Since there are 4 predictors it will be hard to visualize them all at once. However, we will be able to evaluate the performance of a classification model through a confusion matrix."
      ]
    },
    {
      "cell_type": "code",
      "metadata": {
        "id": "1Q2VT2N60qwy",
        "colab": {
          "base_uri": "https://localhost:8080/"
        },
        "outputId": "703e2294-cc3d-4880-cc8f-12d6eaeb549b"
      },
      "source": [
        "# random state in order for reproducible results\n",
        "# 70:30 split for our dataset\n",
        "X_train, X_val, y_train, y_val = train_test_split(df_encoded.loc[:, : \"fraction_of_voiced_region\"].values, df_encoded.intonation_enc.values, \n",
        "                                                  random_state = 123, test_size = 0.3)\n",
        "# re-scaling each of our 4 features\n",
        "scaling = StandardScaler()\n",
        "X_train, X_val= scaling.fit_transform(X_train), scaling.fit_transform(X_val)\n",
        "print(X_train.shape, y_train.shape, X_val.shape, y_val.shape)"
      ],
      "execution_count": null,
      "outputs": [
        {
          "output_type": "stream",
          "text": [
            "(14000, 4) (14000,) (6000, 4) (6000,)\n"
          ],
          "name": "stdout"
        }
      ]
    },
    {
      "cell_type": "markdown",
      "metadata": {
        "id": "o9R6D0CLRZBv"
      },
      "source": [
        "After the partition of the data set, we then scale down each of the 4 features down to a standard normal distribution. This technique will be used since we will be implementing models that are sensitive to feature scaling such as Logistic Regression and K-Nearest Neighbours (Knn). Although the feature scaling technique of standardization is useful for some models, models such as Tree-based algorithms that we will use are invariant to the scale of the features. Hence the performance for some models will improve whilst others will not change at all."
      ]
    },
    {
      "cell_type": "markdown",
      "metadata": {
        "id": "xpKmbLsLS5oK"
      },
      "source": [
        "To compare different models on our data set and see which model performs the best, we will use **Random Search** with some of the hyperparameters that are used for each model.\n",
        "\n",
        "**Note:** In the labs, we have applied cross-validation on the whole of our data set as this automatically splits our data set into training and validation data sets. However, we have already partitioned our data set, therefore we will be applying cross-validation on `X_train` which will also allow us to compare the accuracy scores between models.\n",
        "\n",
        "**Description of the model:**\n",
        "* The models we will be comparing are Knn, Logistic regression and the random forest classifier.\n",
        "* We will be using the 4 features that we have extracted from our data set and feed those into each of our models.\n",
        "* The set of hyperparameters chosen for each model are chosen at random.\n",
        "* The accuracy score for each of our models will be compared in order to choose the best model."
      ]
    },
    {
      "cell_type": "markdown",
      "metadata": {
        "id": "IY6NMY6EE2uG"
      },
      "source": [
        "Reference of implementation for the code cell below: \n",
        "https://github.com/krishnaik06/Pipelines-Using-Sklearn/blob/master/SklearnPipeline.ipynb\n",
        "\n",
        "\n",
        "\n"
      ]
    },
    {
      "cell_type": "code",
      "metadata": {
        "colab": {
          "base_uri": "https://localhost:8080/"
        },
        "id": "FAnBxmEn3ehY",
        "outputId": "41a62dba-f657-449a-9273-e16459f59078"
      },
      "source": [
        "# Create a pipeline\n",
        "pipe = Pipeline([(\"clf\", KNeighborsClassifier())])\n",
        "# Create dictionary with candidate learning algorithms and their hyperparameters\n",
        "random_param = [\n",
        "                {\"clf\": [KNeighborsClassifier()],\n",
        "                 \"clf__n_neighbors\": [5, 10, 25, 50, 100]\n",
        "                 },\n",
        "                {\"clf\": [LogisticRegression()],\n",
        "                 \"clf__penalty\": ['l2'],\n",
        "                 \"clf__C\": np.logspace(0, 4, 10),\n",
        "                 \"clf__solver\": ['saga','sag'], # These solvers don't allow L1 penalty\n",
        "                 \"clf__random_state\": [123] #  As solver == ‘sag’, ‘saga’ \n",
        "                 },\n",
        "                {\"clf\": [RandomForestClassifier()],\n",
        "                 \"clf__n_estimators\": [10, 100, 1000],\n",
        "                 \"clf__max_depth\": [5, 10, 15, 25, 30, None],\n",
        "                 \"clf__min_samples_leaf\": [1 ,2, 5, 10, 15, 100],\n",
        "                 \"clf__max_leaf_nodes\": [2, 5, 10, None],\n",
        "                 \"clf__random_state\": [123]}\n",
        "              ]\n",
        "# create a randomsearch of the pipeline, then fit the best model\n",
        "# n_jobs = -1 means using all processors\n",
        "# verbose = 0 Controls the verbosity: the higher, the more messages\n",
        "# computing the scores on the training set can be computationally expensive and is not strictly required to select the parameters that yield the best generalization performance.\n",
        "# cv > 5 takes considerably longer time\n",
        "randomsearch = RandomizedSearchCV(pipe, random_param, n_iter = 10, cv = 7, \n",
        "                                  verbose = 0, n_jobs = -1, random_state = 123) # Fit random search\n",
        "best_model = randomsearch.fit(X_train,y_train)\n",
        "print(best_model.best_estimator_)\n",
        "print(\"The mean accuracy of the best model is:\", best_model.score(X_val, y_val) * 100, \"%\")"
      ],
      "execution_count": null,
      "outputs": [
        {
          "output_type": "stream",
          "text": [
            "Pipeline(memory=None,\n",
            "         steps=[('clf',\n",
            "                 RandomForestClassifier(bootstrap=True, ccp_alpha=0.0,\n",
            "                                        class_weight=None, criterion='gini',\n",
            "                                        max_depth=15, max_features='auto',\n",
            "                                        max_leaf_nodes=None, max_samples=None,\n",
            "                                        min_impurity_decrease=0.0,\n",
            "                                        min_impurity_split=None,\n",
            "                                        min_samples_leaf=10,\n",
            "                                        min_samples_split=2,\n",
            "                                        min_weight_fraction_leaf=0.0,\n",
            "                                        n_estimators=1000, n_jobs=None,\n",
            "                                        oob_score=False, random_state=123,\n",
            "                                        verbose=0, warm_start=False))],\n",
            "         verbose=False)\n",
            "The mean accuracy of the best model is: 56.39999999999999 %\n"
          ],
          "name": "stdout"
        }
      ]
    },
    {
      "cell_type": "markdown",
      "metadata": {
        "id": "V-QxrvHlwSLA"
      },
      "source": [
        "From the results of our random search, we can see the best model is the random forest classifier with a 56.4% mean accuracy score (on the validation data set) stated above in the output cell."
      ]
    },
    {
      "cell_type": "markdown",
      "metadata": {
        "id": "TCfPC4gM0kk2"
      },
      "source": [
        "We now assess how well our best classifier deals with each class separately which we will depict in a confusion matrix below."
      ]
    },
    {
      "cell_type": "code",
      "metadata": {
        "id": "wLFNjhDC0pB3",
        "colab": {
          "base_uri": "https://localhost:8080/",
          "height": 300
        },
        "outputId": "2f20ff0e-85c1-4d1e-d9ce-0e4e22176f03"
      },
      "source": [
        "best_rand_model = best_model.best_estimator_\n",
        "plot_confusion_matrix(best_rand_model, X_val, y_val, display_labels = le.inverse_transform([0, 1, 2, 3]),\n",
        "                                 cmap = plt.cm.Blues, normalize = 'true')\n",
        "plt.title(\"Confusion Matrix\", fontsize = 20);"
      ],
      "execution_count": null,
      "outputs": [
        {
          "output_type": "display_data",
          "data": {
            "image/png": "[encoded data removed]",
            "text/plain": [
              "<Figure size 432x288 with 2 Axes>"
            ]
          },
          "metadata": {
            "tags": [],
            "needs_background": "light"
          }
        }
      ]
    },
    {
      "cell_type": "markdown",
      "metadata": {
        "id": "Wm2NVvm3dNZI"
      },
      "source": [
        "Here we can see our random forest classifier predicts each intonation \n",
        "somewhat moderately okay with the intonation \"question\" being predicted correctly most of the time over the others (i.e. out of all of the audio samples that are labelled as \"question\" the model predicts only 62% of them correctly as \"question\")."
      ]
    },
    {
      "cell_type": "markdown",
      "metadata": {
        "id": "DEy1f8tH_2aS"
      },
      "source": [
        "We will now produce a classification report."
      ]
    },
    {
      "cell_type": "code",
      "metadata": {
        "id": "cTdpMnkj1DTe",
        "colab": {
          "base_uri": "https://localhost:8080/"
        },
        "outputId": "72be5eaf-a164-41c3-d16c-8ec585989557"
      },
      "source": [
        "print(classification_report(y_val, best_rand_model.predict(X_val), target_names = le.inverse_transform([0, 1, 2, 3])))"
      ],
      "execution_count": null,
      "outputs": [
        {
          "output_type": "stream",
          "text": [
            "              precision    recall  f1-score   support\n",
            "\n",
            "       bored       0.61      0.59      0.60      1497\n",
            "     excited       0.55      0.55      0.55      1497\n",
            "     neutral       0.48      0.49      0.49      1477\n",
            "    question       0.62      0.62      0.62      1529\n",
            "\n",
            "    accuracy                           0.56      6000\n",
            "   macro avg       0.56      0.56      0.56      6000\n",
            "weighted avg       0.57      0.56      0.56      6000\n",
            "\n"
          ],
          "name": "stdout"
        }
      ]
    },
    {
      "cell_type": "markdown",
      "metadata": {
        "id": "8DjwGbcwWcOx"
      },
      "source": [
        "From the classification report, the values in the recall column for each intonation are the same values as those in the diagonal entries in the confusion matrix. Moreover, the precision values are quite high for \"bored\" and \"question\" compared to other intonations."
      ]
    },
    {
      "cell_type": "markdown",
      "metadata": {
        "id": "PNJFkOTD7a9T"
      },
      "source": [
        "## Conclusion"
      ]
    },
    {
      "cell_type": "markdown",
      "metadata": {
        "id": "vNIwQEwH7dZ0"
      },
      "source": [
        "To conclude, the accuracy score (56.4%)that we obtained for our best model (random forest classifer) was moderately okay but could have been improved. For future work, in order to get a better accuracy score, we could have extracted more features from the audio files instead of extracting only 4. Due to time constraints we could also have used grid search (even though it is more computationally expensive than random search) instead of random search so that we could have obtained the best hyperparameters for our best model. In addition, we could have also increased the number of K-folds when carrying out cross-validation (which also is more computationally expensive). Finally, we could have also considered algorithms such as SVM (support vector machine) and Naive Bayes classifier as well as using techniques such as gradient boosting to improve the performance of the random forest classifier."
      ]
    },
    {
      "cell_type": "markdown",
      "metadata": {
        "id": "ObIDFkGSfuYa"
      },
      "source": [
        "# 2.  **Advanced solution** [10 marks]:"
      ]
    },
    {
      "cell_type": "markdown",
      "metadata": {
        "id": "fyAQxRNFfzqK"
      },
      "source": [
        "**Problem Statement:** Identifying a numeral that is and isn't divisible by 5 in a short audio segment."
      ]
    },
    {
      "cell_type": "markdown",
      "metadata": {
        "id": "0qjge1uhAsix"
      },
      "source": [
        "## Brief summary:\n",
        "\n",
        "In this notebook we will use the MLEnd datset. Firstly, we prepocess the data and then build a model that predicts whether a numeral is divisible by 5 or not based on a short audio segment. Next, we will evaluate the preformance of our model and come to a conclusion of what we have done.\n",
        "\n",
        "**Note:** This is a binary classification problem.\n",
        "\n",
        "The MLEnd dataset contains audio files where each audio file contains a single digit and the intonation that is asscociated with it. For example, such an audio will be a voice saying the digit number 0 with the intonation of the voice being excited."
      ]
    },
    {
      "cell_type": "markdown",
      "metadata": {
        "id": "D8ggHPBoBKYx"
      },
      "source": [
        "## Dataset preparation"
      ]
    },
    {
      "cell_type": "markdown",
      "metadata": {
        "id": "GItLCdRtTox9"
      },
      "source": [
        "The following code cells below with their explanations are referenced here:\n",
        "https://qmplus.qmul.ac.uk/mod/resource/view.php?id=1566660"
      ]
    },
    {
      "cell_type": "markdown",
      "metadata": {
        "id": "G_mecuhnBKY4"
      },
      "source": [
        "Here we see how many audio files we have in our data set:"
      ]
    },
    {
      "cell_type": "code",
      "metadata": {
        "colab": {
          "base_uri": "https://localhost:8080/"
        },
        "id": "7pvPoY8GBKY6",
        "outputId": "cc5110a4-91bc-4d4e-dfd3-234ee350b953"
      },
      "source": [
        "files = glob.glob('/content/drive/MyDrive/Data/MLEnd/training/*/*.wav')\n",
        "len(files)"
      ],
      "execution_count": null,
      "outputs": [
        {
          "output_type": "execute_result",
          "data": {
            "text/plain": [
              "20000"
            ]
          },
          "metadata": {
            "tags": []
          },
          "execution_count": 39
        }
      ]
    },
    {
      "cell_type": "markdown",
      "metadata": {
        "id": "Pe-ForUvBKY_"
      },
      "source": [
        "This figure (20k) corresponds to the number of **items** or **samples** in our dataset."
      ]
    },
    {
      "cell_type": "markdown",
      "metadata": {
        "id": "otZMA45YBKZA"
      },
      "source": [
        "Let's now load the contents of 'trainingMLEnd.csv' into a pandas DataFrame and explore them:"
      ]
    },
    {
      "cell_type": "code",
      "metadata": {
        "id": "i6cyTUa2BKZB",
        "colab": {
          "base_uri": "https://localhost:8080/",
          "height": 419
        },
        "outputId": "549e8dd2-fada-4c7b-949d-93602577f3e0"
      },
      "source": [
        "labels = pd.read_csv('/content/drive/MyDrive/Data/MLEnd/trainingMLEnd.csv')\n",
        "labels"
      ],
      "execution_count": null,
      "outputs": [
        {
          "output_type": "execute_result",
          "data": {
            "text/html": [
              "<div>\n",
              "<style scoped>\n",
              "    .dataframe tbody tr th:only-of-type {\n",
              "        vertical-align: middle;\n",
              "    }\n",
              "\n",
              "    .dataframe tbody tr th {\n",
              "        vertical-align: top;\n",
              "    }\n",
              "\n",
              "    .dataframe thead th {\n",
              "        text-align: right;\n",
              "    }\n",
              "</style>\n",
              "<table border=\"1\" class=\"dataframe\">\n",
              "  <thead>\n",
              "    <tr style=\"text-align: right;\">\n",
              "      <th></th>\n",
              "      <th>File ID</th>\n",
              "      <th>digit_label</th>\n",
              "      <th>participant</th>\n",
              "      <th>intonation</th>\n",
              "    </tr>\n",
              "  </thead>\n",
              "  <tbody>\n",
              "    <tr>\n",
              "      <th>0</th>\n",
              "      <td>0000000.wav</td>\n",
              "      <td>4</td>\n",
              "      <td>S73</td>\n",
              "      <td>question</td>\n",
              "    </tr>\n",
              "    <tr>\n",
              "      <th>1</th>\n",
              "      <td>0000001.wav</td>\n",
              "      <td>2</td>\n",
              "      <td>S88</td>\n",
              "      <td>excited</td>\n",
              "    </tr>\n",
              "    <tr>\n",
              "      <th>2</th>\n",
              "      <td>0000002.wav</td>\n",
              "      <td>70</td>\n",
              "      <td>S5</td>\n",
              "      <td>neutral</td>\n",
              "    </tr>\n",
              "    <tr>\n",
              "      <th>3</th>\n",
              "      <td>0000003.wav</td>\n",
              "      <td>2</td>\n",
              "      <td>S85</td>\n",
              "      <td>bored</td>\n",
              "    </tr>\n",
              "    <tr>\n",
              "      <th>4</th>\n",
              "      <td>0000004.wav</td>\n",
              "      <td>4</td>\n",
              "      <td>S30</td>\n",
              "      <td>excited</td>\n",
              "    </tr>\n",
              "    <tr>\n",
              "      <th>...</th>\n",
              "      <td>...</td>\n",
              "      <td>...</td>\n",
              "      <td>...</td>\n",
              "      <td>...</td>\n",
              "    </tr>\n",
              "    <tr>\n",
              "      <th>19995</th>\n",
              "      <td>0019995.wav</td>\n",
              "      <td>90</td>\n",
              "      <td>S163</td>\n",
              "      <td>excited</td>\n",
              "    </tr>\n",
              "    <tr>\n",
              "      <th>19996</th>\n",
              "      <td>0019996.wav</td>\n",
              "      <td>10</td>\n",
              "      <td>S99</td>\n",
              "      <td>question</td>\n",
              "    </tr>\n",
              "    <tr>\n",
              "      <th>19997</th>\n",
              "      <td>0019997.wav</td>\n",
              "      <td>90</td>\n",
              "      <td>S46</td>\n",
              "      <td>question</td>\n",
              "    </tr>\n",
              "    <tr>\n",
              "      <th>19998</th>\n",
              "      <td>0019998.wav</td>\n",
              "      <td>19</td>\n",
              "      <td>S13</td>\n",
              "      <td>neutral</td>\n",
              "    </tr>\n",
              "    <tr>\n",
              "      <th>19999</th>\n",
              "      <td>0019999.wav</td>\n",
              "      <td>20</td>\n",
              "      <td>S101</td>\n",
              "      <td>neutral</td>\n",
              "    </tr>\n",
              "  </tbody>\n",
              "</table>\n",
              "<p>20000 rows × 4 columns</p>\n",
              "</div>"
            ],
            "text/plain": [
              "           File ID  digit_label participant intonation\n",
              "0      0000000.wav            4         S73   question\n",
              "1      0000001.wav            2         S88    excited\n",
              "2      0000002.wav           70          S5    neutral\n",
              "3      0000003.wav            2         S85      bored\n",
              "4      0000004.wav            4         S30    excited\n",
              "...            ...          ...         ...        ...\n",
              "19995  0019995.wav           90        S163    excited\n",
              "19996  0019996.wav           10         S99   question\n",
              "19997  0019997.wav           90         S46   question\n",
              "19998  0019998.wav           19         S13    neutral\n",
              "19999  0019999.wav           20        S101    neutral\n",
              "\n",
              "[20000 rows x 4 columns]"
            ]
          },
          "metadata": {
            "tags": []
          },
          "execution_count": 40
        }
      ]
    },
    {
      "cell_type": "markdown",
      "metadata": {
        "id": "dJ6bOfIhBKZC"
      },
      "source": [
        "This file consists of 20k rows and 4 columns. Each row corresponds to one of the items in our dataset, and each item is described by four attributes:\n",
        "\n",
        "\n",
        "1.   File ID (audio file)\n",
        "2.   Numeral\n",
        "3.   Participand ID\n",
        "4.   Intonation\n"
      ]
    },
    {
      "cell_type": "markdown",
      "metadata": {
        "id": "PkZ7TiUXBKZD"
      },
      "source": [
        "If we are using a raw audio signal as a predictor, we will be operating in a predictor space consisting of tens of thousands of dimensions.\n",
        "\n",
        "One approach is to extract a few features from our signals and use these features instead as predictors. In the following cell, we define a function that extracts four features from an audio signal, namely:\n",
        "\n",
        "\n",
        "1.   Power.\n",
        "2.   Pitch mean.\n",
        "3.   Pitch standard deviation.\n",
        "4.   Fraction of voiced region.\n",
        "\n",
        "In the next cell, we define a new function that gets the pitch of an audio signal. Moreover, we  define a function that takes a number of files and creates a NumPy array containing the 4 audio features used as predictors (`X`) and their labels (`y`). \n",
        "\n",
        "**Note: The cell below is commented out, this is done to avoid downloading all the files again repeatedly when re-running the notebook.**"
      ]
    },
    {
      "cell_type": "code",
      "metadata": {
        "colab": {
          "base_uri": "https://localhost:8080/",
          "height": 137
        },
        "id": "gWAjmeE4BKZF",
        "outputId": "29a17fce-de31-4953-9d22-e36c10df8e37"
      },
      "source": [
        "'''\n",
        "def getPitch(x,fs,winLen=0.02): \n",
        "  p = winLen*fs\n",
        "  frame_length = int(2 ** int(p - 1).bit_length())\n",
        "  hop_length = frame_length//2\n",
        "  f0, voiced_flag, voiced_probs = librosa.pyin(y = x, fmin = 80, fmax = 450, sr = fs, frame_length=frame_length, hop_length=hop_length)\n",
        "  return f0,voiced_flag\n",
        "\n",
        "def getXy(files,labels_file,scale_audio = False):\n",
        "  X, y1, y2 =[], [], []\n",
        "  for file in tqdm(files):\n",
        "    fileID = file.split('/')[-1]\n",
        "    digitlabels = list(labels_file[labels_file['File ID'] == fileID]['digit_label'])[0]\n",
        "    intonations = list(labels_file[labels_file['File ID'] == fileID]['intonation'])[0]\n",
        "    fs = None # if None, fs would be 22050\n",
        "    x, fs = librosa.load(file,sr=fs)\n",
        "    if scale_audio: x = x/np.max(np.abs(x))\n",
        "    f0, voiced_flag = getPitch(x, fs, winLen = 0.02)\n",
        "    # how the fetures are defined\n",
        "    power = np.sum(x**2)/len(x)\n",
        "    pitch_mean = np.nanmean(f0) if np.mean(np.isnan(f0)) < 1 else 0\n",
        "    pitch_std  = np.nanstd(f0) if np.mean(np.isnan(f0)) < 1 else 0\n",
        "    voiced_fr = np.mean(voiced_flag)\n",
        "    # the dataset X is built/priortises on these features\n",
        "    xi = [power,pitch_mean,pitch_std,voiced_fr]\n",
        "    X.append(xi)\n",
        "    y1.append(digitlabels)\n",
        "    y2.append(intonations)\n",
        "  return np.array(X), np.array(y1), np.array(y2)\n",
        "\n",
        "X, y1, y2 = getXy(files, labels_file = labels, scale_audio = True) # all of the dataset\n",
        "df = pd.DataFrame({'power': X[:, 0], 'pitch_mean': X[:, 1], 'pitch_standard_deviation': X[:, 2], 'fraction_of_voiced_region': X[:, 3], \n",
        "                   'number': y1, \"intonation\": y2})\n",
        "# These 3 lines of code should be outputted in 3 separate code blocks\n",
        "cd /content/drive/My Drive\n",
        "!pwd\n",
        "df.to_csv(\"complete_data.csv\", index = False)\n",
        "'''"
      ],
      "execution_count": null,
      "outputs": [
        {
          "output_type": "execute_result",
          "data": {
            "application/vnd.google.colaboratory.intrinsic+json": {
              "type": "string"
            },
            "text/plain": [
              "'\\ndef getPitch(x,fs,winLen=0.02): \\n  p = winLen*fs\\n  frame_length = int(2 ** int(p - 1).bit_length())\\n  hop_length = frame_length//2\\n  f0, voiced_flag, voiced_probs = librosa.pyin(y = x, fmin = 80, fmax = 450, sr = fs, frame_length=frame_length, hop_length=hop_length)\\n  return f0,voiced_flag\\n\\ndef getXy(files,labels_file,scale_audio = False):\\n  X, y1, y2 =[], [], []\\n  for file in tqdm(files):\\n    fileID = file.split(\\'/\\')[-1]\\n    digitlabels = list(labels_file[labels_file[\\'File ID\\'] == fileID][\\'digit_label\\'])[0]\\n    intonations = list(labels_file[labels_file[\\'File ID\\'] == fileID][\\'intonation\\'])[0]\\n    fs = None # if None, fs would be 22050\\n    x, fs = librosa.load(file,sr=fs)\\n    if scale_audio: x = x/np.max(np.abs(x))\\n    f0, voiced_flag = getPitch(x, fs, winLen = 0.02)\\n    # how the fetures are defined\\n    power = np.sum(x**2)/len(x)\\n    pitch_mean = np.nanmean(f0) if np.mean(np.isnan(f0)) < 1 else 0\\n    pitch_std  = np.nanstd(f0) if np.mean(np.isnan(f0)) < 1 else 0\\n    voiced_fr = np.mean(voiced_flag)\\n    # the dataset X is built/priortises on these features\\n    xi = [power,pitch_mean,pitch_std,voiced_fr]\\n    X.append(xi)\\n    y1.append(digitlabels)\\n    y2.append(intonations)\\n  return np.array(X), np.array(y1), np.array(y2)\\n\\nX, y1, y2 = getXy(files, labels_file = labels, scale_audio = True) # all of the dataset\\ndf = pd.DataFrame({\\'power\\': X[:, 0], \\'pitch_mean\\': X[:, 1], \\'pitch_standard_deviation\\': X[:, 2], \\'fraction_of_voiced_region\\': X[:, 3], \\n                   \\'number\\': y1, \"intonation\": y2})\\n# These 3 lines of code should be outputted in 3 separate code blocks\\ncd /content/drive/My Drive\\n!pwd\\ndf.to_csv(\"complete_data.csv\", index = False)\\n'"
            ]
          },
          "metadata": {
            "tags": []
          },
          "execution_count": 41
        }
      ]
    },
    {
      "cell_type": "markdown",
      "metadata": {
        "id": "RFWdUP3sBKZG"
      },
      "source": [
        "From the cell above we apply the function `getXy` to extract **all** the audio files in our data set. Then we create a pandas data frame and turn it into a CSV (comma separated values) file. Next, we save the CSV file to our drive so we can use the completed data for future purposes."
      ]
    },
    {
      "cell_type": "markdown",
      "metadata": {
        "id": "dXb-jnLiBKZH"
      },
      "source": [
        "Here we load our created CSV file and look at the first 5 rows of our dataframe."
      ]
    },
    {
      "cell_type": "code",
      "metadata": {
        "colab": {
          "base_uri": "https://localhost:8080/",
          "height": 204
        },
        "id": "CZuAJ0B8BKZI",
        "outputId": "7c5dcabe-2e63-4a40-c194-cf3cb3b6aaa8"
      },
      "source": [
        "df = pd.read_csv(\"/content/drive/MyDrive/complete_data.csv\")\n",
        "df.head()"
      ],
      "execution_count": null,
      "outputs": [
        {
          "output_type": "execute_result",
          "data": {
            "text/html": [
              "<div>\n",
              "<style scoped>\n",
              "    .dataframe tbody tr th:only-of-type {\n",
              "        vertical-align: middle;\n",
              "    }\n",
              "\n",
              "    .dataframe tbody tr th {\n",
              "        vertical-align: top;\n",
              "    }\n",
              "\n",
              "    .dataframe thead th {\n",
              "        text-align: right;\n",
              "    }\n",
              "</style>\n",
              "<table border=\"1\" class=\"dataframe\">\n",
              "  <thead>\n",
              "    <tr style=\"text-align: right;\">\n",
              "      <th></th>\n",
              "      <th>power</th>\n",
              "      <th>pitch_mean</th>\n",
              "      <th>pitch_standard_deviation</th>\n",
              "      <th>fraction_of_voiced_region</th>\n",
              "      <th>number</th>\n",
              "      <th>intonation</th>\n",
              "    </tr>\n",
              "  </thead>\n",
              "  <tbody>\n",
              "    <tr>\n",
              "      <th>0</th>\n",
              "      <td>0.017455</td>\n",
              "      <td>227.662371</td>\n",
              "      <td>32.420767</td>\n",
              "      <td>0.386792</td>\n",
              "      <td>12</td>\n",
              "      <td>bored</td>\n",
              "    </tr>\n",
              "    <tr>\n",
              "      <th>1</th>\n",
              "      <td>0.038618</td>\n",
              "      <td>187.723934</td>\n",
              "      <td>62.598813</td>\n",
              "      <td>0.291139</td>\n",
              "      <td>1</td>\n",
              "      <td>question</td>\n",
              "    </tr>\n",
              "    <tr>\n",
              "      <th>2</th>\n",
              "      <td>0.042435</td>\n",
              "      <td>128.812251</td>\n",
              "      <td>20.912529</td>\n",
              "      <td>0.313953</td>\n",
              "      <td>40</td>\n",
              "      <td>excited</td>\n",
              "    </tr>\n",
              "    <tr>\n",
              "      <th>3</th>\n",
              "      <td>0.006295</td>\n",
              "      <td>130.283099</td>\n",
              "      <td>5.193614</td>\n",
              "      <td>0.241176</td>\n",
              "      <td>9</td>\n",
              "      <td>excited</td>\n",
              "    </tr>\n",
              "    <tr>\n",
              "      <th>4</th>\n",
              "      <td>0.017070</td>\n",
              "      <td>171.916609</td>\n",
              "      <td>26.854425</td>\n",
              "      <td>0.111888</td>\n",
              "      <td>6</td>\n",
              "      <td>question</td>\n",
              "    </tr>\n",
              "  </tbody>\n",
              "</table>\n",
              "</div>"
            ],
            "text/plain": [
              "      power  pitch_mean  ...  number  intonation\n",
              "0  0.017455  227.662371  ...      12       bored\n",
              "1  0.038618  187.723934  ...       1    question\n",
              "2  0.042435  128.812251  ...      40     excited\n",
              "3  0.006295  130.283099  ...       9     excited\n",
              "4  0.017070  171.916609  ...       6    question\n",
              "\n",
              "[5 rows x 6 columns]"
            ]
          },
          "metadata": {
            "tags": []
          },
          "execution_count": 42
        }
      ]
    },
    {
      "cell_type": "markdown",
      "metadata": {
        "id": "wyMg0R_NBKZJ"
      },
      "source": [
        "Here we check to see if there are any missing values in our data set and observe that there are no missing values."
      ]
    },
    {
      "cell_type": "code",
      "metadata": {
        "colab": {
          "base_uri": "https://localhost:8080/"
        },
        "id": "NFWNAD-0BKZK",
        "outputId": "3584e041-bdf2-43d0-bad2-62a27326fc44"
      },
      "source": [
        "df.info()"
      ],
      "execution_count": null,
      "outputs": [
        {
          "output_type": "stream",
          "text": [
            "<class 'pandas.core.frame.DataFrame'>\n",
            "RangeIndex: 20000 entries, 0 to 19999\n",
            "Data columns (total 6 columns):\n",
            " #   Column                     Non-Null Count  Dtype  \n",
            "---  ------                     --------------  -----  \n",
            " 0   power                      20000 non-null  float64\n",
            " 1   pitch_mean                 20000 non-null  float64\n",
            " 2   pitch_standard_deviation   20000 non-null  float64\n",
            " 3   fraction_of_voiced_region  20000 non-null  float64\n",
            " 4   number                     20000 non-null  int64  \n",
            " 5   intonation                 20000 non-null  object \n",
            "dtypes: float64(4), int64(1), object(1)\n",
            "memory usage: 937.6+ KB\n"
          ],
          "name": "stdout"
        }
      ]
    },
    {
      "cell_type": "markdown",
      "metadata": {
        "id": "Y1MgnOllMCFl"
      },
      "source": [
        "We now find out how many unique digits there are in our data set as well as how many digits are divisible by 5 and how many of those are not divisible 5."
      ]
    },
    {
      "cell_type": "code",
      "metadata": {
        "colab": {
          "base_uri": "https://localhost:8080/"
        },
        "id": "h5ZxHXNeLOvE",
        "outputId": "7d445dae-5f61-4191-b114-31a930e1d656"
      },
      "source": [
        "len(df.number.unique()), len(df[df.number % 5 == 0].number.unique()), len(df[df.number % 5 != 0].number.unique())"
      ],
      "execution_count": null,
      "outputs": [
        {
          "output_type": "execute_result",
          "data": {
            "text/plain": [
              "(32, 16, 16)"
            ]
          },
          "metadata": {
            "tags": []
          },
          "execution_count": 44
        }
      ]
    },
    {
      "cell_type": "markdown",
      "metadata": {
        "id": "KSqc3gPTMZlG"
      },
      "source": [
        "We can see that we have in total 32 unique digits in our data set with half of the digits that are divisible by 5 and half of the digits that are not divisible by 5."
      ]
    },
    {
      "cell_type": "markdown",
      "metadata": {
        "id": "PvTYwIv4OXty"
      },
      "source": [
        "We now make a copy of our data set and derive a new column called \"divBy5\" such that it has a value of \"yes\" if a sample is divisible by 5 and a label of \"no\" if a sample is not divisible by 5."
      ]
    },
    {
      "cell_type": "code",
      "metadata": {
        "colab": {
          "base_uri": "https://localhost:8080/",
          "height": 204
        },
        "id": "W4OdJ7gZDUq6",
        "outputId": "43888817-865a-4a68-9253-4b01262f15b5"
      },
      "source": [
        "df5 = df.copy(deep = True)\n",
        "div5, notdiv5  = (df5.number % 5 == 0), (df5.number % 5 != 0)\n",
        "conditions, choices = [div5, notdiv5], [\"yes\", \"no\"]\n",
        "df5[\"divBy5\"] = np.select(conditions, choices, default = \"\")\n",
        "df5.head()"
      ],
      "execution_count": null,
      "outputs": [
        {
          "output_type": "execute_result",
          "data": {
            "text/html": [
              "<div>\n",
              "<style scoped>\n",
              "    .dataframe tbody tr th:only-of-type {\n",
              "        vertical-align: middle;\n",
              "    }\n",
              "\n",
              "    .dataframe tbody tr th {\n",
              "        vertical-align: top;\n",
              "    }\n",
              "\n",
              "    .dataframe thead th {\n",
              "        text-align: right;\n",
              "    }\n",
              "</style>\n",
              "<table border=\"1\" class=\"dataframe\">\n",
              "  <thead>\n",
              "    <tr style=\"text-align: right;\">\n",
              "      <th></th>\n",
              "      <th>power</th>\n",
              "      <th>pitch_mean</th>\n",
              "      <th>pitch_standard_deviation</th>\n",
              "      <th>fraction_of_voiced_region</th>\n",
              "      <th>number</th>\n",
              "      <th>intonation</th>\n",
              "      <th>divBy5</th>\n",
              "    </tr>\n",
              "  </thead>\n",
              "  <tbody>\n",
              "    <tr>\n",
              "      <th>0</th>\n",
              "      <td>0.017455</td>\n",
              "      <td>227.662371</td>\n",
              "      <td>32.420767</td>\n",
              "      <td>0.386792</td>\n",
              "      <td>12</td>\n",
              "      <td>bored</td>\n",
              "      <td>no</td>\n",
              "    </tr>\n",
              "    <tr>\n",
              "      <th>1</th>\n",
              "      <td>0.038618</td>\n",
              "      <td>187.723934</td>\n",
              "      <td>62.598813</td>\n",
              "      <td>0.291139</td>\n",
              "      <td>1</td>\n",
              "      <td>question</td>\n",
              "      <td>no</td>\n",
              "    </tr>\n",
              "    <tr>\n",
              "      <th>2</th>\n",
              "      <td>0.042435</td>\n",
              "      <td>128.812251</td>\n",
              "      <td>20.912529</td>\n",
              "      <td>0.313953</td>\n",
              "      <td>40</td>\n",
              "      <td>excited</td>\n",
              "      <td>yes</td>\n",
              "    </tr>\n",
              "    <tr>\n",
              "      <th>3</th>\n",
              "      <td>0.006295</td>\n",
              "      <td>130.283099</td>\n",
              "      <td>5.193614</td>\n",
              "      <td>0.241176</td>\n",
              "      <td>9</td>\n",
              "      <td>excited</td>\n",
              "      <td>no</td>\n",
              "    </tr>\n",
              "    <tr>\n",
              "      <th>4</th>\n",
              "      <td>0.017070</td>\n",
              "      <td>171.916609</td>\n",
              "      <td>26.854425</td>\n",
              "      <td>0.111888</td>\n",
              "      <td>6</td>\n",
              "      <td>question</td>\n",
              "      <td>no</td>\n",
              "    </tr>\n",
              "  </tbody>\n",
              "</table>\n",
              "</div>"
            ],
            "text/plain": [
              "      power  pitch_mean  pitch_standard_deviation  ...  number  intonation divBy5\n",
              "0  0.017455  227.662371                 32.420767  ...      12       bored     no\n",
              "1  0.038618  187.723934                 62.598813  ...       1    question     no\n",
              "2  0.042435  128.812251                 20.912529  ...      40     excited    yes\n",
              "3  0.006295  130.283099                  5.193614  ...       9     excited     no\n",
              "4  0.017070  171.916609                 26.854425  ...       6    question     no\n",
              "\n",
              "[5 rows x 7 columns]"
            ]
          },
          "metadata": {
            "tags": []
          },
          "execution_count": 45
        }
      ]
    },
    {
      "cell_type": "markdown",
      "metadata": {
        "id": "4Zv8xkj9Bsql"
      },
      "source": [
        "We now check to see if there is any class imbalance in our data set for the \"intonation\" column. We do this through a bar plot (i.e. a count plot in seaborn) and count the number of files that are and aren't divisible by 5."
      ]
    },
    {
      "cell_type": "code",
      "metadata": {
        "colab": {
          "base_uri": "https://localhost:8080/",
          "height": 352
        },
        "id": "IQw2EknfBsqm",
        "outputId": "65d7276a-6a2c-4c0f-bdda-eeb73beb681c"
      },
      "source": [
        "#plotting the graph\n",
        "plt.figure(figsize = (10, 5))\n",
        "g = sns.countplot(df5.divBy5)\n",
        "g.set_title(\"Number of files that are and aren't divisible by 5\", fontsize = 15)\n",
        "g.set_ylabel(\"Number of files\");"
      ],
      "execution_count": null,
      "outputs": [
        {
          "output_type": "display_data",
          "data": {
            "image/png": "[encoded data removed]",
            "text/plain": [
              "<Figure size 720x360 with 1 Axes>"
            ]
          },
          "metadata": {
            "tags": [],
            "needs_background": "light"
          }
        }
      ]
    },
    {
      "cell_type": "markdown",
      "metadata": {
        "id": "CQMPOhc1Bsqo"
      },
      "source": [
        "We can see that there is a slight class imbalance (in the \"divBy5\" column) in our data set. We now compute the ratio of this class imbalance. (i.e. the total number of audio files that contain a digit that is divisible by 5 divided by the total number of audio files that contain a digit that isn't divisible by 5)"
      ]
    },
    {
      "cell_type": "code",
      "metadata": {
        "colab": {
          "base_uri": "https://localhost:8080/"
        },
        "id": "mztbhiHtFosK",
        "outputId": "a2bf33b4-1a25-43d3-c086-cc382904f819"
      },
      "source": [
        "df[df.number % 5 == 0].shape[0] / df[df.number % 5 != 0].shape[0]"
      ],
      "execution_count": null,
      "outputs": [
        {
          "output_type": "execute_result",
          "data": {
            "text/plain": [
              "0.9890601690701144"
            ]
          },
          "metadata": {
            "tags": []
          },
          "execution_count": 47
        }
      ]
    },
    {
      "cell_type": "markdown",
      "metadata": {
        "id": "qzFaHNLQNk9P"
      },
      "source": [
        "We can see that the class imbalance is not severe and that there is approxiamtely a 1:1 relationship between every audio file that contains a digit that is divisible by 5 and one that isn't."
      ]
    },
    {
      "cell_type": "markdown",
      "metadata": {
        "id": "xjHb76mQBsqp"
      },
      "source": [
        "Before splitting our dataset into training and validation, we will first apply a label encoder to the \"divBy5\" column."
      ]
    },
    {
      "cell_type": "code",
      "metadata": {
        "colab": {
          "base_uri": "https://localhost:8080/",
          "height": 204
        },
        "id": "10nBP-dHBsqp",
        "outputId": "6bf10da8-c509-45e3-d1a2-e5e77f08538e"
      },
      "source": [
        "le = LabelEncoder()\n",
        "df5[\"enc\"] = le.fit_transform(df5.divBy5)\n",
        "df5.head()"
      ],
      "execution_count": null,
      "outputs": [
        {
          "output_type": "execute_result",
          "data": {
            "text/html": [
              "<div>\n",
              "<style scoped>\n",
              "    .dataframe tbody tr th:only-of-type {\n",
              "        vertical-align: middle;\n",
              "    }\n",
              "\n",
              "    .dataframe tbody tr th {\n",
              "        vertical-align: top;\n",
              "    }\n",
              "\n",
              "    .dataframe thead th {\n",
              "        text-align: right;\n",
              "    }\n",
              "</style>\n",
              "<table border=\"1\" class=\"dataframe\">\n",
              "  <thead>\n",
              "    <tr style=\"text-align: right;\">\n",
              "      <th></th>\n",
              "      <th>power</th>\n",
              "      <th>pitch_mean</th>\n",
              "      <th>pitch_standard_deviation</th>\n",
              "      <th>fraction_of_voiced_region</th>\n",
              "      <th>number</th>\n",
              "      <th>intonation</th>\n",
              "      <th>divBy5</th>\n",
              "      <th>enc</th>\n",
              "    </tr>\n",
              "  </thead>\n",
              "  <tbody>\n",
              "    <tr>\n",
              "      <th>0</th>\n",
              "      <td>0.017455</td>\n",
              "      <td>227.662371</td>\n",
              "      <td>32.420767</td>\n",
              "      <td>0.386792</td>\n",
              "      <td>12</td>\n",
              "      <td>bored</td>\n",
              "      <td>no</td>\n",
              "      <td>0</td>\n",
              "    </tr>\n",
              "    <tr>\n",
              "      <th>1</th>\n",
              "      <td>0.038618</td>\n",
              "      <td>187.723934</td>\n",
              "      <td>62.598813</td>\n",
              "      <td>0.291139</td>\n",
              "      <td>1</td>\n",
              "      <td>question</td>\n",
              "      <td>no</td>\n",
              "      <td>0</td>\n",
              "    </tr>\n",
              "    <tr>\n",
              "      <th>2</th>\n",
              "      <td>0.042435</td>\n",
              "      <td>128.812251</td>\n",
              "      <td>20.912529</td>\n",
              "      <td>0.313953</td>\n",
              "      <td>40</td>\n",
              "      <td>excited</td>\n",
              "      <td>yes</td>\n",
              "      <td>1</td>\n",
              "    </tr>\n",
              "    <tr>\n",
              "      <th>3</th>\n",
              "      <td>0.006295</td>\n",
              "      <td>130.283099</td>\n",
              "      <td>5.193614</td>\n",
              "      <td>0.241176</td>\n",
              "      <td>9</td>\n",
              "      <td>excited</td>\n",
              "      <td>no</td>\n",
              "      <td>0</td>\n",
              "    </tr>\n",
              "    <tr>\n",
              "      <th>4</th>\n",
              "      <td>0.017070</td>\n",
              "      <td>171.916609</td>\n",
              "      <td>26.854425</td>\n",
              "      <td>0.111888</td>\n",
              "      <td>6</td>\n",
              "      <td>question</td>\n",
              "      <td>no</td>\n",
              "      <td>0</td>\n",
              "    </tr>\n",
              "  </tbody>\n",
              "</table>\n",
              "</div>"
            ],
            "text/plain": [
              "      power  pitch_mean  pitch_standard_deviation  ...  intonation  divBy5 enc\n",
              "0  0.017455  227.662371                 32.420767  ...       bored      no   0\n",
              "1  0.038618  187.723934                 62.598813  ...    question      no   0\n",
              "2  0.042435  128.812251                 20.912529  ...     excited     yes   1\n",
              "3  0.006295  130.283099                  5.193614  ...     excited      no   0\n",
              "4  0.017070  171.916609                 26.854425  ...    question      no   0\n",
              "\n",
              "[5 rows x 8 columns]"
            ]
          },
          "metadata": {
            "tags": []
          },
          "execution_count": 48
        }
      ]
    },
    {
      "cell_type": "markdown",
      "metadata": {
        "id": "73MKZIQeBsqq"
      },
      "source": [
        "We now find out which of the labels \"no\" and \"yes\" represent which number."
      ]
    },
    {
      "cell_type": "code",
      "metadata": {
        "colab": {
          "base_uri": "https://localhost:8080/"
        },
        "id": "B_fpTkB0Bsqr",
        "outputId": "788cf313-3bb4-4ff0-c871-61e113988531"
      },
      "source": [
        "le.inverse_transform([0, 1])"
      ],
      "execution_count": null,
      "outputs": [
        {
          "output_type": "execute_result",
          "data": {
            "text/plain": [
              "array(['no', 'yes'], dtype=object)"
            ]
          },
          "metadata": {
            "tags": []
          },
          "execution_count": 49
        }
      ]
    },
    {
      "cell_type": "markdown",
      "metadata": {
        "id": "Zg0LLXpvBsqr"
      },
      "source": [
        "From here we can see that our labels of 0 and 1 represent \"no\" and \"yes\" respectively."
      ]
    },
    {
      "cell_type": "markdown",
      "metadata": {
        "id": "jzQeneV7-M13"
      },
      "source": [
        "## Model"
      ]
    },
    {
      "cell_type": "markdown",
      "metadata": {
        "id": "cHfKM4CbV3F_"
      },
      "source": [
        "We split the data set randomly such that the validation data set accounts for 30% of the total number of samples in the data set. Since there are 4 predictors it will be hard to visualize them all at once. However, we will be able to evaluate the performance of a classification model through a confusion matrix and an ROC (receiver operating characteristic curve) curve."
      ]
    },
    {
      "cell_type": "code",
      "metadata": {
        "colab": {
          "base_uri": "https://localhost:8080/"
        },
        "id": "riUbPpZY-Ng7",
        "outputId": "82a18280-2b98-4da6-93c4-f9e363668c9b"
      },
      "source": [
        "X_train, X_val, y_train, y_val = train_test_split(df5.loc[:, : \"fraction_of_voiced_region\"].values, df5.enc.values, \n",
        "                                                  random_state = 123, test_size = 0.3)\n",
        "# re-scaling each of our 4 features\n",
        "scaling = StandardScaler()\n",
        "X_train, X_val= scaling.fit_transform(X_train), scaling.fit_transform(X_val)\n",
        "print(X_train.shape, y_train.shape, X_val.shape, y_val.shape)"
      ],
      "execution_count": null,
      "outputs": [
        {
          "output_type": "stream",
          "text": [
            "(14000, 4) (14000,) (6000, 4) (6000,)\n"
          ],
          "name": "stdout"
        }
      ]
    },
    {
      "cell_type": "markdown",
      "metadata": {
        "id": "OPzHTA5Zb5LB"
      },
      "source": [
        "After the partition of the data set, we then scale down each of the 4 features down to a standard normal distribution. This technique will be used since we will be implementing models that are sensitive to feature scaling such as Logistic Regression and K-Nearest Neighbours. Although the feature scaling technique of standardization is useful for some models, models such as Tree-based algorithms that we will use are invariant to the scale of the features. Hence the performance for some models will improve whilst others will not change at all."
      ]
    },
    {
      "cell_type": "markdown",
      "metadata": {
        "id": "5hjb-5ggTzEx"
      },
      "source": [
        "However, we will also be constructing a neural network therefore we must apply the technique of one-hot encoding in order to use the categorical cross-entropy loss for our model."
      ]
    },
    {
      "cell_type": "code",
      "metadata": {
        "colab": {
          "base_uri": "https://localhost:8080/"
        },
        "id": "tYTsLmgdTKZI",
        "outputId": "9a28a250-773f-4036-8f83-ce4a776cc5d0"
      },
      "source": [
        "X_train, X_val, y_train_1hot, y_val_1hot = train_test_split(df5.loc[:, : \"fraction_of_voiced_region\"].values, pd.get_dummies(df5.divBy5).values, \n",
        "                                                  random_state = 123, test_size = 0.3)\n",
        "# re-scaling each of our 4 features\n",
        "scaling = StandardScaler()\n",
        "X_train, X_val= scaling.fit_transform(X_train), scaling.fit_transform(X_val)\n",
        "print(X_train.shape, y_train_1hot.shape, X_val.shape, y_val_1hot.shape)"
      ],
      "execution_count": null,
      "outputs": [
        {
          "output_type": "stream",
          "text": [
            "(14000, 4) (14000, 2) (6000, 4) (6000, 2)\n"
          ],
          "name": "stdout"
        }
      ]
    },
    {
      "cell_type": "markdown",
      "metadata": {
        "id": "EpVySgbDdnwX"
      },
      "source": [
        "We now create a class in order to stop our neural network from training after it reaches a certain validation accuracy.\n",
        "\n",
        "**Note: I have trained the model previously with different hyperparameters and it turns out the best validation accuracy score lies between 0.45 and 0.56**"
      ]
    },
    {
      "cell_type": "markdown",
      "metadata": {
        "id": "sSoAQ1tbX8uS"
      },
      "source": [
        "Reference of the implemnetation of the code cell below: https://stackoverflow.com/questions/59563085/how-to-stop-training-when-it-hits-a-specific-validation-accuracy"
      ]
    },
    {
      "cell_type": "code",
      "metadata": {
        "id": "6CNDYkq1WWXf"
      },
      "source": [
        "class CustomCallback(tf.keras.callbacks.Callback):\n",
        "    def on_epoch_end(self, epoch, logs = None):\n",
        "        if logs.get('val_accuracy') >= 0.55:\n",
        "            self.model.stop_training = True\n",
        "\n",
        "callback = CustomCallback()"
      ],
      "execution_count": null,
      "outputs": []
    },
    {
      "cell_type": "markdown",
      "metadata": {
        "id": "Q-pojxaqePOz"
      },
      "source": [
        "We now construct our neural network and train it using the training data set, we will output the loss, training accuracy, validation loss and validation accuracy after every epoch."
      ]
    },
    {
      "cell_type": "markdown",
      "metadata": {
        "id": "peKiOzcqcT7T"
      },
      "source": [
        "Description of the Neural Network's architecture:\n",
        "\n",
        "**Input Layer:** \n",
        "* 4 features were extracted from our data set which we will be using to feed into the network.\n",
        "\n",
        "**Hidden Layers:**\n",
        "* The dimensions for the hidden layers are chosen at random.\n",
        "\n",
        "**Output Layer:**\n",
        "* The neural network will predict whether a given sample is divisible by 5 or not therefore the nerual network's output will only be 2 features.\n",
        "\n",
        "**Activation & Loss functions:** \n",
        "* The softmax function will allow us to understand which class the neural network is predicting in terms of probabilities.\n",
        "* The categorical cross-entropy is used due to the fact that we have one-hot encoded our \"divBy5\" column.\n",
        "\n",
        "Reference of the implementation of the code cell below: \n",
        "https://github.com/krishnaik06/Audio-Classification/blob/main/Part%202-%20Audio%20Classification%20Data%20Preprocessing%20And%20Model%20Creation.ipynb"
      ]
    },
    {
      "cell_type": "code",
      "metadata": {
        "colab": {
          "base_uri": "https://localhost:8080/"
        },
        "id": "4n8fUR-6QlRc",
        "outputId": "4e58f919-9d93-4604-c6a4-94000423f5f4"
      },
      "source": [
        "model = Sequential()\n",
        "###first layer\n",
        "model.add(Dense(128, input_shape=(4,), activation = 'relu'))\n",
        "model.add(Dense(256, activation='relu'))\n",
        "\n",
        "###second layer\n",
        "model.add(Dense(256, activation = 'relu'))\n",
        "\n",
        "###third layer\n",
        "model.add(Dense(256, activation = 'relu'))\n",
        "\n",
        "###final layer\n",
        "model.add(Dense(2, activation = 'softmax'))\n",
        "\n",
        "opt = Adam(learning_rate = 1e-3)\n",
        "model.compile(loss = 'categorical_crossentropy', metrics = ['accuracy'], optimizer = opt)\n",
        "\n",
        "num_epochs = 100\n",
        "num_batch_size = 256\n",
        "\n",
        "start = datetime.now()\n",
        "\n",
        "model.fit(X_train, y_train_1hot, batch_size = num_batch_size, epochs = num_epochs, validation_data = (X_val, y_val_1hot), verbose = 1, callbacks = [callback])\n",
        "\n",
        "duration = datetime.now() - start\n",
        "print(\"Training completed in time: \", duration)"
      ],
      "execution_count": null,
      "outputs": [
        {
          "output_type": "stream",
          "text": [
            "Epoch 1/100\n",
            "55/55 [==============================] - 1s 15ms/step - loss: 0.6929 - accuracy: 0.5252 - val_loss: 0.6899 - val_accuracy: 0.5428\n",
            "Epoch 2/100\n",
            "55/55 [==============================] - 1s 13ms/step - loss: 0.6887 - accuracy: 0.5400 - val_loss: 0.6881 - val_accuracy: 0.5447\n",
            "Epoch 3/100\n",
            "55/55 [==============================] - 1s 12ms/step - loss: 0.6870 - accuracy: 0.5454 - val_loss: 0.6879 - val_accuracy: 0.5427\n",
            "Epoch 4/100\n",
            "55/55 [==============================] - 1s 12ms/step - loss: 0.6855 - accuracy: 0.5468 - val_loss: 0.6878 - val_accuracy: 0.5327\n",
            "Epoch 5/100\n",
            "55/55 [==============================] - 1s 12ms/step - loss: 0.6845 - accuracy: 0.5467 - val_loss: 0.6879 - val_accuracy: 0.5470\n",
            "Epoch 6/100\n",
            "55/55 [==============================] - 1s 12ms/step - loss: 0.6845 - accuracy: 0.5539 - val_loss: 0.6895 - val_accuracy: 0.5435\n",
            "Epoch 7/100\n",
            "55/55 [==============================] - 1s 11ms/step - loss: 0.6850 - accuracy: 0.5472 - val_loss: 0.6875 - val_accuracy: 0.5480\n",
            "Epoch 8/100\n",
            "55/55 [==============================] - 1s 12ms/step - loss: 0.6840 - accuracy: 0.5487 - val_loss: 0.6889 - val_accuracy: 0.5358\n",
            "Epoch 9/100\n",
            "55/55 [==============================] - 1s 12ms/step - loss: 0.6844 - accuracy: 0.5513 - val_loss: 0.6890 - val_accuracy: 0.5368\n",
            "Epoch 10/100\n",
            "55/55 [==============================] - 1s 12ms/step - loss: 0.6838 - accuracy: 0.5494 - val_loss: 0.6913 - val_accuracy: 0.5457\n",
            "Epoch 11/100\n",
            "55/55 [==============================] - 1s 11ms/step - loss: 0.6861 - accuracy: 0.5437 - val_loss: 0.6877 - val_accuracy: 0.5462\n",
            "Epoch 12/100\n",
            "55/55 [==============================] - 1s 11ms/step - loss: 0.6828 - accuracy: 0.5555 - val_loss: 0.6872 - val_accuracy: 0.5475\n",
            "Epoch 13/100\n",
            "55/55 [==============================] - 1s 11ms/step - loss: 0.6832 - accuracy: 0.5581 - val_loss: 0.6888 - val_accuracy: 0.5382\n",
            "Epoch 14/100\n",
            "55/55 [==============================] - 1s 11ms/step - loss: 0.6813 - accuracy: 0.5605 - val_loss: 0.6881 - val_accuracy: 0.5488\n",
            "Epoch 15/100\n",
            "55/55 [==============================] - 1s 12ms/step - loss: 0.6804 - accuracy: 0.5651 - val_loss: 0.6896 - val_accuracy: 0.5470\n",
            "Epoch 16/100\n",
            "55/55 [==============================] - 1s 12ms/step - loss: 0.6792 - accuracy: 0.5628 - val_loss: 0.6884 - val_accuracy: 0.5445\n",
            "Epoch 17/100\n",
            "55/55 [==============================] - 1s 12ms/step - loss: 0.6799 - accuracy: 0.5644 - val_loss: 0.6889 - val_accuracy: 0.5535\n",
            "Training completed in time:  0:00:11.690632\n"
          ],
          "name": "stdout"
        }
      ]
    },
    {
      "cell_type": "markdown",
      "metadata": {
        "id": "flMEu1FtXGrn"
      },
      "source": [
        "From our neural network, we have a 55.4% (approximately) validation accuracy."
      ]
    },
    {
      "cell_type": "markdown",
      "metadata": {
        "id": "kMdklRTQfmMD"
      },
      "source": [
        "To compare different models on our data set and see which model performs the best, we will use **Random Search** with some of the hyperparameters that are used for each model.\n",
        "\n",
        "**Note:** In the labs, we have applied cross-validation on the whole of our data set as this automatically splits our data set into training and validation data sets. However, we have already partitioned our data set, therefore we will be applying cross-validation on `X_train` which will also allow us to compare the accuracy scores between models.\n",
        "\n",
        "**Description of the model:**\n",
        "* The models we will be comparing are Knn, Logistic regression and the random forest classifier\n",
        "* We will be using the 4 features that we have extracted from our data set and feed those into each of our models.\n",
        "* The set of hyperparameters chosen for each model are chosen at random.\n",
        "* The accuracy score for each of our models will be compared in order to choose the best model."
      ]
    },
    {
      "cell_type": "markdown",
      "metadata": {
        "id": "3eUk5n6JZJMi"
      },
      "source": [
        "Reference of implementation for the code cell below: \n",
        "https://github.com/krishnaik06/Pipelines-Using-Sklearn/blob/master/SklearnPipeline.ipynb"
      ]
    },
    {
      "cell_type": "code",
      "metadata": {
        "colab": {
          "base_uri": "https://localhost:8080/"
        },
        "id": "bJChDzxoQV6i",
        "outputId": "01dc929c-6470-4341-b712-6eac4bec7f39"
      },
      "source": [
        "# Create a pipeline\n",
        "pipe = Pipeline([(\"clf\", KNeighborsClassifier())])\n",
        "# Create dictionary with candidate learning algorithms and their hyperparameters\n",
        "random_param = [\n",
        "                {\"clf\": [KNeighborsClassifier()],\n",
        "                 \"clf__n_neighbors\": [5, 10, 25, 50, 100]\n",
        "                 },\n",
        "                {\"clf\": [LogisticRegression()],\n",
        "                 \"clf__penalty\": ['l2'],\n",
        "                 \"clf__C\": np.logspace(0, 4, 10),\n",
        "                 \"clf__solver\": ['saga','sag'], # These solvers don't allow L1 penalty\n",
        "                 \"clf__random_state\": [123] #  As solver == ‘sag’, ‘saga’ \n",
        "                 },\n",
        "                {\"clf\": [RandomForestClassifier()],\n",
        "                 \"clf__n_estimators\": [10, 100, 1000],\n",
        "                 \"clf__max_depth\": [5, 10, 15, 25, 30, None],\n",
        "                 \"clf__min_samples_leaf\": [1 ,2, 5, 10, 15, 100],\n",
        "                 \"clf__max_leaf_nodes\": [2, 5, 10, 15, None],\n",
        "                 \"clf__random_state\": [123]}\n",
        "              ]\n",
        "# create a randomsearch of the pipeline, the fit the best model\n",
        "# n_jobs = -1 means using all processors\n",
        "# verbose = 0 Controls the verbosity: the higher, the more messages\n",
        "# computing the scores on the training set can be computationally expensive and is not strictly required to select the parameters that yield the best generalization performance.\n",
        "# cv > 5 takes considerably longer time\n",
        "randomsearch = RandomizedSearchCV(pipe, random_param, n_iter = 10, cv = 7, \n",
        "                                  verbose = 0, n_jobs = -1, random_state = 123) # Fit random search\n",
        "best_model = randomsearch.fit(X_train,y_train)\n",
        "print(best_model.best_estimator_)\n",
        "print(\"The mean accuracy of the best model is:\", best_model.score(X_val, y_val) * 100, \"%\")"
      ],
      "execution_count": null,
      "outputs": [
        {
          "output_type": "stream",
          "text": [
            "Pipeline(memory=None,\n",
            "         steps=[('clf',\n",
            "                 RandomForestClassifier(bootstrap=True, ccp_alpha=0.0,\n",
            "                                        class_weight=None, criterion='gini',\n",
            "                                        max_depth=15, max_features='auto',\n",
            "                                        max_leaf_nodes=None, max_samples=None,\n",
            "                                        min_impurity_decrease=0.0,\n",
            "                                        min_impurity_split=None,\n",
            "                                        min_samples_leaf=2, min_samples_split=2,\n",
            "                                        min_weight_fraction_leaf=0.0,\n",
            "                                        n_estimators=1000, n_jobs=None,\n",
            "                                        oob_score=False, random_state=123,\n",
            "                                        verbose=0, warm_start=False))],\n",
            "         verbose=False)\n",
            "The mean accuracy of the best model is: 55.61666666666667 %\n"
          ],
          "name": "stdout"
        }
      ]
    },
    {
      "cell_type": "markdown",
      "metadata": {
        "id": "fyF4Dbw6ZFxV"
      },
      "source": [
        "From the results of our random search, we can see the best model is the RandomForestClassifier with a 55.6% mean accuracy score which is better than our neural network validation accuracy score of 55.4%."
      ]
    },
    {
      "cell_type": "markdown",
      "metadata": {
        "id": "frWMNp3TZX86"
      },
      "source": [
        "We now compute a confusion matrix for the random forest classifier."
      ]
    },
    {
      "cell_type": "code",
      "metadata": {
        "colab": {
          "base_uri": "https://localhost:8080/",
          "height": 300
        },
        "id": "v6QYiSldQdfs",
        "outputId": "3b246ba8-d8ed-437f-f5a8-372eb63c160f"
      },
      "source": [
        "best_rand_model = best_model.best_estimator_\n",
        "plot_confusion_matrix(best_rand_model, X_val, y_val, display_labels = le.inverse_transform([0, 1]),\n",
        "                                 cmap = plt.cm.Blues, normalize = 'true')\n",
        "plt.title(\"Confusion Matrix\", fontsize = 20);"
      ],
      "execution_count": null,
      "outputs": [
        {
          "output_type": "display_data",
          "data": {
            "image/png": "[encoded data removed]",
            "text/plain": [
              "<Figure size 432x288 with 2 Axes>"
            ]
          },
          "metadata": {
            "tags": [],
            "needs_background": "light"
          }
        }
      ]
    },
    {
      "cell_type": "markdown",
      "metadata": {
        "id": "eVX6xEFl9eaG"
      },
      "source": [
        "From the confusion matrix we see that our model predicts correctly just over half of the time when an audio file contains a digit that is divisible by 5 and it also predicts just over half of the time when an audio file contains a digit that isn't divisible by 5 (i.e. out of all the audio files that contain a digit that is divisible by 5 the model predicts only classifies 58% of them as divisible by 5)."
      ]
    },
    {
      "cell_type": "markdown",
      "metadata": {
        "id": "LF8jOPCLbfjX"
      },
      "source": [
        "Here we plot an ROC curve with its AUC value."
      ]
    },
    {
      "cell_type": "markdown",
      "metadata": {
        "id": "UoL7zA_Ua3sM"
      },
      "source": [
        "Reference of implementation for the code cell below: https://github.com/dataprofessor/code/blob/master/python/ROC_curve.ipynb"
      ]
    },
    {
      "cell_type": "code",
      "metadata": {
        "colab": {
          "base_uri": "https://localhost:8080/",
          "height": 329
        },
        "id": "_jOGJaiCaXrN",
        "outputId": "eb6a650c-4fe2-4cee-9264-1428b3558280"
      },
      "source": [
        "r_probs = [0 for _ in range(len(y_val))]\n",
        "rf_probs = best_rand_model.predict_proba(X_val)\n",
        "rf_probs = rf_probs[:, 1]\n",
        "# computing the auc for both y = x and the model\n",
        "r_auc = roc_auc_score(y_val, r_probs)\n",
        "rf_auc = roc_auc_score(y_val, rf_probs)\n",
        "\n",
        "print('Random (chance) Prediction: AUROC = %.3f' % (r_auc))\n",
        "print('Random Forest: AUROC = %.3f' % (rf_auc))\n",
        "# plotting the curve by using FPR and TPR\n",
        "r_fpr, r_tpr, _ = roc_curve(y_val, r_probs)\n",
        "rf_fpr, rf_tpr, _ = roc_curve(y_val, rf_probs)\n",
        "\n",
        "plt.plot(r_fpr, r_tpr, linestyle='--', label='Random prediction (AUC = %0.3f)' % r_auc)\n",
        "plt.plot(rf_fpr, rf_tpr, marker='.', label='Random Forest (AUC = %0.3f)' % rf_auc)\n",
        "\n",
        "plt.title('ROC Plot')\n",
        "plt.xlabel('False Positive Rate')\n",
        "plt.ylabel('True Positive Rate')\n",
        "plt.legend()\n",
        "plt.show()"
      ],
      "execution_count": null,
      "outputs": [
        {
          "output_type": "stream",
          "text": [
            "Random (chance) Prediction: AUROC = 0.500\n",
            "Random Forest: AUROC = 0.566\n"
          ],
          "name": "stdout"
        },
        {
          "output_type": "display_data",
          "data": {
            "image/png": "[encoded data removed]",
            "text/plain": [
              "<Figure size 432x288 with 1 Axes>"
            ]
          },
          "metadata": {
            "tags": [],
            "needs_background": "light"
          }
        }
      ]
    },
    {
      "cell_type": "markdown",
      "metadata": {
        "id": "P5_20CWOc6a8"
      },
      "source": [
        "**Note:**\n",
        "\n",
        "* The True Positive Rate (TPR or recall) is defined as the digit being labelled as divisible by 5 (i.e. \"yes\") and the model predicting the digit as divisible by 5.\n",
        "* The False Positive Rate (FPR or 1 - specificity) is defined as the digit being labelled as not divisible by 5 (i.e. \"no\") and the model predicting the digit as divisible by 5.\n",
        "\n",
        "From the ROC plot, we can see that our model does slightly better than random guessing. We can also say that the model barely learned anything as the area under the cover (AUC) for our model is 56.6% which is just over 50%."
      ]
    },
    {
      "cell_type": "markdown",
      "metadata": {
        "id": "-cg0CXaFVSz0"
      },
      "source": [
        "We will now produce a classification report in order to summarize the results that we have obtained above."
      ]
    },
    {
      "cell_type": "code",
      "metadata": {
        "colab": {
          "base_uri": "https://localhost:8080/"
        },
        "id": "TWw8G9jXRgz8",
        "outputId": "fffbeed4-1991-45fb-c96e-c162c9460e09"
      },
      "source": [
        "print(classification_report(y_val, best_model.predict(X_val), target_names = le.inverse_transform([0, 1])))"
      ],
      "execution_count": null,
      "outputs": [
        {
          "output_type": "stream",
          "text": [
            "              precision    recall  f1-score   support\n",
            "\n",
            "          no       0.56      0.54      0.55      2993\n",
            "         yes       0.56      0.58      0.57      3007\n",
            "\n",
            "    accuracy                           0.56      6000\n",
            "   macro avg       0.56      0.56      0.56      6000\n",
            "weighted avg       0.56      0.56      0.56      6000\n",
            "\n"
          ],
          "name": "stdout"
        }
      ]
    },
    {
      "cell_type": "markdown",
      "metadata": {
        "id": "tq7HR52_W_6f"
      },
      "source": [
        "From the classification report the values in the recall column for each class (i.e. \"no\" and \"yes\") is the same values as those in the diagonal entries in the confusion matrix. "
      ]
    },
    {
      "cell_type": "markdown",
      "metadata": {
        "id": "umwBnyNS2li0"
      },
      "source": [
        "## Conclusion"
      ]
    },
    {
      "cell_type": "markdown",
      "metadata": {
        "id": "f8v1H8fF2p7x"
      },
      "source": [
        "To conclude the accuracy score (55.6%) that we obtained for our best model (random forest classifier) was moderately okay but could have been improved. For future work, in order to get a better accuracy score, we could have extracted more features from the audio files instead of extracting only 4. Due to time constraints, we could also have used grid search (even though it is more computationally expensive than random search) instead of random search so that we could have obtained the best hyperparameters for our best model. Also for our neural network, we also could have used grid search with the same idea in mind in order to make a fairer comparison of the validation accuracy between models. Additionally, we could also have used \"dropout\" in our neural network in order for the neural network to not rely on specific patterns and to be able to generalise better. Regarding the other models we used in this notebook, we could have also increased the number of K-folds when carrying out cross-validation (which also is more computationally expensive). Finally, we could have also considered algorithms such as SVM (support vector machine) and Naive Bayes classifier as well as using techniques such as gradient boosting to improve the performance of the random forest classifier."
      ]
    }
  ]
}
