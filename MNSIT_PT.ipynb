{
  "nbformat": 4,
  "nbformat_minor": 0,
  "metadata": {
    "colab": {
      "name": "MNSIT_PT.ipynb",
      "provenance": [],
      "collapsed_sections": [],
      "authorship_tag": "ABX9TyOWzDDImr2c8LUTiegPUUyW",
      "include_colab_link": true
    },
    "kernelspec": {
      "name": "python3",
      "display_name": "Python 3"
    },
    "language_info": {
      "name": "python"
    }
  },
  "cells": [
    {
      "cell_type": "markdown",
      "metadata": {
        "id": "view-in-github",
        "colab_type": "text"
      },
      "source": [
        "<a href=\"https://colab.research.google.com/github/M-Salim-I/Other-Projects/blob/main/MNSIT_PT.ipynb\" target=\"_parent\"><img src=\"https://colab.research.google.com/assets/colab-badge.svg\" alt=\"Open In Colab\"/></a>"
      ]
    },
    {
      "cell_type": "markdown",
      "metadata": {
        "id": "_RDx8bfh91S4"
      },
      "source": [
        "Code adapted and inspired from:\n",
        "https://pythonprogramming.net/data-deep-learning-neural-network-pytorch/"
      ]
    },
    {
      "cell_type": "code",
      "metadata": {
        "id": "TeLR5aBAwJEj"
      },
      "source": [
        "import torch\n",
        "import torchvision\n",
        "from torchvision import transforms, datasets\n",
        "import matplotlib.pyplot as plt\n",
        "import torch.nn as nn\n",
        "import torch.nn.functional as F\n",
        "import torch.optim as optim"
      ],
      "execution_count": null,
      "outputs": []
    },
    {
      "cell_type": "code",
      "metadata": {
        "id": "yy5uWJ8ww46m"
      },
      "source": [
        "train = datasets.MNIST('', train = True, download = True,\n",
        "                       transform = transforms.Compose([\n",
        "                           transforms.ToTensor()\n",
        "                       ]))\n",
        "\n",
        "test = datasets.MNIST('', train = False, download = True,\n",
        "                       transform = transforms.Compose([\n",
        "                           transforms.ToTensor()\n",
        "                       ]))"
      ],
      "execution_count": null,
      "outputs": []
    },
    {
      "cell_type": "markdown",
      "metadata": {
        "id": "PtC31yShDwiG"
      },
      "source": [
        "HYPERPARAMETRS"
      ]
    },
    {
      "cell_type": "code",
      "metadata": {
        "id": "3LaWFJqfDxJt"
      },
      "source": [
        "BS = 10\n",
        "LR = 1e-3\n",
        "EPOCHS = 3"
      ],
      "execution_count": null,
      "outputs": []
    },
    {
      "cell_type": "code",
      "metadata": {
        "id": "ORh200zvwoB5"
      },
      "source": [
        "trainset = torch.utils.data.DataLoader(train, batch_size = BS, shuffle = True)\n",
        "testset = torch.utils.data.DataLoader(test, batch_size = BS, shuffle = False)"
      ],
      "execution_count": null,
      "outputs": []
    },
    {
      "cell_type": "code",
      "metadata": {
        "colab": {
          "base_uri": "https://localhost:8080/"
        },
        "id": "9AtSTJ5VLTFA",
        "outputId": "87c9ac6a-c117-4f9f-b8df-79f8b744bb75"
      },
      "source": [
        "for data in trainset:\n",
        "  X, y = data\n",
        "  print(\"X: \", X.shape)\n",
        "  break"
      ],
      "execution_count": null,
      "outputs": [
        {
          "output_type": "stream",
          "text": [
            "X:  torch.Size([10, 1, 28, 28])\n"
          ],
          "name": "stdout"
        }
      ]
    },
    {
      "cell_type": "markdown",
      "metadata": {
        "id": "stdZhKJqLhD9"
      },
      "source": [
        "We are dealing with grayscale imgaes as the number of channels in tensor `X` is 1 with each image of size 28 x28"
      ]
    },
    {
      "cell_type": "code",
      "metadata": {
        "colab": {
          "base_uri": "https://localhost:8080/",
          "height": 256
        },
        "id": "zmCwsjDO8AkC",
        "outputId": "d2c1aef3-8625-4c73-ec59-3ab28f09051e"
      },
      "source": [
        "# visualising the 1st 5 numbers in our training set in the 1st batch\n",
        "fig, ax = plt.subplots(1, 5, figsize = (20, 20))\n",
        "\n",
        "img = 0\n",
        "for data in trainset:\n",
        "  while img < 5:\n",
        "    ax[img].imshow(data[0][img].view(28, 28))\n",
        "    ax[img].set_title(f'The number of this image is {data[1][img]}')\n",
        "    img += 1"
      ],
      "execution_count": null,
      "outputs": [
        {
          "output_type": "display_data",
          "data": {
            "image/png": "[encoded data removed]",
            "text/plain": [
              "<Figure size 1440x1440 with 5 Axes>"
            ]
          },
          "metadata": {
            "tags": [],
            "needs_background": "light"
          }
        }
      ]
    },
    {
      "cell_type": "code",
      "metadata": {
        "colab": {
          "base_uri": "https://localhost:8080/"
        },
        "id": "G2qxUaDL9iRo",
        "outputId": "99ea6d0e-38e6-4c48-b846-aab28a7bf7ba"
      },
      "source": [
        "total = 0\n",
        "counter_dict = {0: 0, 1: 0, 2: 0, 3: 0, 4: 0, 5: 0, 6: 0, 7: 0, 8: 0, 9: 0}\n",
        "\n",
        "for data in trainset:\n",
        "  Xs, ys = data\n",
        "  for y in ys:\n",
        "    counter_dict[int(y)] += 1\n",
        "    total += 1\n",
        "\n",
        "print(counter_dict)"
      ],
      "execution_count": null,
      "outputs": [
        {
          "output_type": "stream",
          "text": [
            "{0: 5923, 1: 6742, 2: 5958, 3: 6131, 4: 5842, 5: 5421, 6: 5918, 7: 6265, 8: 5851, 9: 5949}\n"
          ],
          "name": "stdout"
        }
      ]
    },
    {
      "cell_type": "code",
      "metadata": {
        "colab": {
          "base_uri": "https://localhost:8080/"
        },
        "id": "8bnEinWp-eRz",
        "outputId": "0683fff5-2aaf-4840-da54-6cc8e5eaf752"
      },
      "source": [
        "# % of each number in the data\n",
        "for num in counter_dict:\n",
        "  print(f'{num}: {(counter_dict[num] / total) * 100}')"
      ],
      "execution_count": null,
      "outputs": [
        {
          "output_type": "stream",
          "text": [
            "0: 9.871666666666666\n",
            "1: 11.236666666666666\n",
            "2: 9.93\n",
            "3: 10.218333333333334\n",
            "4: 9.736666666666666\n",
            "5: 9.035\n",
            "6: 9.863333333333333\n",
            "7: 10.441666666666666\n",
            "8: 9.751666666666667\n",
            "9: 9.915000000000001\n"
          ],
          "name": "stdout"
        }
      ]
    },
    {
      "cell_type": "markdown",
      "metadata": {
        "id": "ZkJbJUyVAUpd"
      },
      "source": [
        "Imbalanced data set, but differences between each class is really small since the %'s are between 9 and 11"
      ]
    },
    {
      "cell_type": "code",
      "metadata": {
        "colab": {
          "base_uri": "https://localhost:8080/"
        },
        "id": "zsMemwsiAPuI",
        "outputId": "cfa7d552-fa2b-43b8-c4f8-124a22374a75"
      },
      "source": [
        "class MNIST_NET(nn.Module):\n",
        "    def __init__(self):\n",
        "        super().__init__()\n",
        "        self.FC1 = nn.Linear(28 * 28 , 64)\n",
        "        self.FC2 = nn.Linear(64, 64)\n",
        "        self.FC3 = nn.Linear(64, 64)\n",
        "        self.FC4 = nn.Linear(64, 10)\n",
        "\n",
        "    def forward(self, x):\n",
        "        x = F.relu(self.FC1(x))\n",
        "        x = F.relu(self.FC2(x))\n",
        "        x = F.relu(self.FC3(x))\n",
        "        x = self.FC4(x)\n",
        "        return F.log_softmax(x, dim = 1)\n",
        "\n",
        "net = MNIST_NET()\n",
        "print(net)"
      ],
      "execution_count": null,
      "outputs": [
        {
          "output_type": "stream",
          "text": [
            "MNIST_NET(\n",
            "  (FC1): Linear(in_features=784, out_features=64, bias=True)\n",
            "  (FC2): Linear(in_features=64, out_features=64, bias=True)\n",
            "  (FC3): Linear(in_features=64, out_features=64, bias=True)\n",
            "  (FC4): Linear(in_features=64, out_features=10, bias=True)\n",
            ")\n"
          ],
          "name": "stdout"
        }
      ]
    },
    {
      "cell_type": "code",
      "metadata": {
        "id": "Oo_pfWuHDK7a"
      },
      "source": [
        "loss_function = nn.CrossEntropyLoss()\n",
        "optimizer = optim.Adam(net.parameters(), lr = LR)"
      ],
      "execution_count": null,
      "outputs": []
    },
    {
      "cell_type": "code",
      "metadata": {
        "colab": {
          "base_uri": "https://localhost:8080/",
          "height": 295
        },
        "id": "7B1XcVjDDYmb",
        "outputId": "ee5f3557-da30-4c58-8faa-727b61677783"
      },
      "source": [
        "loss_vals = []\n",
        "for epoch in range(EPOCHS): # EPOCHS full passes over the data\n",
        "    for data in trainset:  # data is a batch of data\n",
        "        X, y = data  # X is the batch of features, y is the batch of targets.\n",
        "        net.zero_grad()  # sets gradients to 0 before loss calc to avoid accumulation of gradients\n",
        "        y_pred = net(X.view(-1, 784))  # pass in the reshaped batch (recall they are 28x28 atm)\n",
        "        # the predictions are not in 1 hot vector form\n",
        "        loss = F.nll_loss(y_pred, y)  # calc and grab the loss value\n",
        "        loss.backward()  # apply this loss backwards thru the network's parameters\n",
        "        optimizer.step()  # attempt to optimize weights to account for loss/gradients\n",
        "    loss_vals.append(loss.item())\n",
        "\n",
        "x = torch.linspace(0, len(loss_vals), len(loss_vals))\n",
        "plt.plot(x, loss_vals, color = 'C2', label = 'Training loss')\n",
        "plt.xlabel(\"Epoch\")\n",
        "plt.ylabel(\"Loss\")\n",
        "plt.title(\"Training Loss\");"
      ],
      "execution_count": null,
      "outputs": [
        {
          "output_type": "display_data",
          "data": {
            "image/png": "[encoded data removed]",
            "text/plain": [
              "<Figure size 432x288 with 1 Axes>"
            ]
          },
          "metadata": {
            "tags": [],
            "needs_background": "light"
          }
        }
      ]
    },
    {
      "cell_type": "code",
      "metadata": {
        "colab": {
          "base_uri": "https://localhost:8080/"
        },
        "id": "Yg0CjVpgDdU2",
        "outputId": "af6a2486-c604-495e-e8fb-63758bcc1c1a"
      },
      "source": [
        "correct, total = 0, 0\n",
        "\n",
        "with torch.no_grad():\n",
        "    for data in testset:\n",
        "        X, y = data\n",
        "        pred = net(X.view(-1,784))\n",
        "        for idx, i in enumerate(pred):\n",
        "            if torch.argmax(i) == y[idx]:\n",
        "                correct += 1\n",
        "            total += 1\n",
        "\n",
        "print(\"Accuracy: \", f'{round(correct / total, 3) * 100}', \"%\")"
      ],
      "execution_count": null,
      "outputs": [
        {
          "output_type": "stream",
          "text": [
            "Accuracy:  97.2 %\n"
          ],
          "name": "stdout"
        }
      ]
    }
  ]
}